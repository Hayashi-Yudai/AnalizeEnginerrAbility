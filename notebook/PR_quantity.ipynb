{
 "cells": [
  {
   "cell_type": "code",
   "execution_count": 103,
   "metadata": {},
   "outputs": [
    {
     "data": {
      "text/plain": [
       "True"
      ]
     },
     "execution_count": 103,
     "metadata": {},
     "output_type": "execute_result"
    }
   ],
   "source": [
    "from datetime import datetime\n",
    "import psycopg2\n",
    "import pandas as pd\n",
    "import dotenv\n",
    "import os\n",
    "import matplotlib.pyplot as plt\n",
    "import requests\n",
    "from requests.auth import HTTPBasicAuth\n",
    "import seaborn as sns\n",
    "from scipy import stats\n",
    "from tqdm.notebook import tqdm\n",
    "from statistics import median, stdev, variance\n",
    "\n",
    "plt.rcParams[\"font.family\"] = \"Arial\"\n",
    "plt.rcParams[\"xtick.labelsize\"] = 18\n",
    "plt.rcParams[\"ytick.labelsize\"] = 18\n",
    "plt.rcParams[\"xtick.direction\"] = \"in\"\n",
    "plt.rcParams[\"ytick.direction\"] = \"in\"\n",
    "plt.rcParams[\"xtick.major.size\"] = 12\n",
    "plt.rcParams[\"ytick.major.size\"] = 12\n",
    "plt.rcParams[\"xtick.major.pad\"] = 18\n",
    "plt.rcParams[\"ytick.major.pad\"] = 18\n",
    "plt.rcParams['axes.linewidth'] = 1.0\n",
    "\n",
    "dotenv.load_dotenv()"
   ]
  },
  {
   "cell_type": "code",
   "execution_count": 2,
   "metadata": {},
   "outputs": [],
   "source": [
    "headers = {\"Authorization\": f\"Bearer {os.environ.get('GITHUB_TOKEN')}\"}\n",
    "\n",
    "\n",
    "def run_query(query):\n",
    "    request = requests.post('https://api.github.com/graphql', json={'query': query}, headers=headers)\n",
    "    if request.status_code == 200:\n",
    "        return request.json()\n",
    "    else:\n",
    "        raise Exception(\"Query failed to run by returning code of {}. {}\".format(request.status_code, query))"
   ]
  },
  {
   "cell_type": "markdown",
   "metadata": {},
   "source": [
    "## Python の有名OSSで Pull Request の大きさがどのくらいになっているか検証"
   ]
  },
  {
   "cell_type": "markdown",
   "metadata": {},
   "source": [
    "### 1つのPRに何個のCommitが含まれているか"
   ]
  },
  {
   "cell_type": "code",
   "execution_count": 15,
   "metadata": {},
   "outputs": [
    {
     "data": {
      "text/plain": [
       "{'data': {'repository': {'pullRequests': {'nodes': [{'commits': {'totalCount': 7}},\n",
       "     {'commits': {'totalCount': 1}},\n",
       "     {'commits': {'totalCount': 2}},\n",
       "     {'commits': {'totalCount': 2}},\n",
       "     {'commits': {'totalCount': 1}},\n",
       "     {'commits': {'totalCount': 1}},\n",
       "     {'commits': {'totalCount': 2}},\n",
       "     {'commits': {'totalCount': 2}},\n",
       "     {'commits': {'totalCount': 1}},\n",
       "     {'commits': {'totalCount': 1}}]}}}}"
      ]
     },
     "execution_count": 15,
     "metadata": {},
     "output_type": "execute_result"
    }
   ],
   "source": [
    "query = \"\"\"\n",
    "{\n",
    "    repository(name: \"requests\", owner: \"psf\") {\n",
    "        pullRequests(first: 10) {\n",
    "            nodes {\n",
    "                commits(first: 1) {\n",
    "                    totalCount\n",
    "                }\n",
    "            }\n",
    "        }\n",
    "    }\n",
    "}\n",
    "\"\"\"\n",
    "result = run_query(query) # Execute the query\n",
    "result"
   ]
  },
  {
   "cell_type": "code",
   "execution_count": 82,
   "metadata": {},
   "outputs": [],
   "source": [
    "repos = {\n",
    "    \"django\": \"django\",\n",
    "    \"requests\": \"psf\",\n",
    "    \"ansible\": \"ansible\",\n",
    "    \"keras\": \"keras-team\",\n",
    "    \"flask\": \"pallets\",\n",
    "    \"scikit-learn\": \"scikit-learn\",\n",
    "    \"pandas\": \"pandas-dev\",\n",
    "    \"pipenv\": \"pypa\",\n",
    "    \"airflow\": \"apache\",\n",
    "    \"luigi\": \"spotify\"\n",
    "}"
   ]
  },
  {
   "cell_type": "code",
   "execution_count": 83,
   "metadata": {},
   "outputs": [
    {
     "data": {
      "application/vnd.jupyter.widget-view+json": {
       "model_id": "35d87bb4c0534a7e8af70d17d65e9387",
       "version_major": 2,
       "version_minor": 0
      },
      "text/plain": [
       "HBox(children=(HTML(value=''), FloatProgress(value=0.0, max=10.0), HTML(value='')))"
      ]
     },
     "metadata": {},
     "output_type": "display_data"
    },
    {
     "name": "stdout",
     "output_type": "stream",
     "text": [
      "\n"
     ]
    }
   ],
   "source": [
    "commits_per_prs = []\n",
    "\n",
    "for repo, owner in tqdm(repos.items()):\n",
    "    query = '{\\n    repository(name: \"' + repo + '\", owner: \"' + owner + '\") {' + \\\n",
    "    \"\"\"\n",
    "        pullRequests(first: 100) {\n",
    "            nodes {\n",
    "                commits(first: 1) {\n",
    "                    totalCount\n",
    "                }\n",
    "            }\n",
    "        }\n",
    "    }\n",
    "}\n",
    "    \"\"\"\n",
    "    result = run_query(query)\n",
    "    prs = result[\"data\"][\"repository\"][\"pullRequests\"][\"nodes\"]\n",
    "    \n",
    "    for pr in prs:\n",
    "        commits_per_prs.append(pr[\"commits\"][\"totalCount\"])"
   ]
  },
  {
   "cell_type": "code",
   "execution_count": 86,
   "metadata": {},
   "outputs": [
    {
     "data": {
      "image/png": "[encoded data removed]",
      "text/plain": [
       "<Figure size 1080x576 with 1 Axes>"
      ]
     },
     "metadata": {
      "needs_background": "light"
     },
     "output_type": "display_data"
    }
   ],
   "source": [
    "plt.figure(figsize=(15, 8))\n",
    "sns.histplot(commits_per_prs, bins=200, cumulative=True, color=\"dodgerblue\", alpha=0.3)\n",
    "sns.histplot(commits_per_prs, bins=200, cumulative=False, color=\"tomato\", alpha=1)\n",
    "plt.xlim(0, 50)\n",
    "plt.ylim(0, 1000)\n",
    "plt.xlabel(\"Commits per PR\", fontsize=18)\n",
    "plt.ylabel(\"Count\", fontsize=18)\n",
    "plt.show()"
   ]
  },
  {
   "cell_type": "code",
   "execution_count": 96,
   "metadata": {},
   "outputs": [
    {
     "data": {
      "text/plain": [
       "1.0"
      ]
     },
     "execution_count": 96,
     "metadata": {},
     "output_type": "execute_result"
    }
   ],
   "source": [
    "median(commits_per_prs)"
   ]
  },
  {
   "cell_type": "code",
   "execution_count": 105,
   "metadata": {},
   "outputs": [
    {
     "data": {
      "text/plain": [
       "14.762195582582505"
      ]
     },
     "execution_count": 105,
     "metadata": {},
     "output_type": "execute_result"
    }
   ],
   "source": [
    "stdev(commits_per_prs)"
   ]
  },
  {
   "cell_type": "markdown",
   "metadata": {},
   "source": [
    "### 1つのPRの変更差分はどれくらいか"
   ]
  },
  {
   "cell_type": "code",
   "execution_count": 54,
   "metadata": {},
   "outputs": [
    {
     "data": {
      "application/vnd.jupyter.widget-view+json": {
       "model_id": "741794f6cab74c1182fc42468cd97afa",
       "version_major": 2,
       "version_minor": 0
      },
      "text/plain": [
       "HBox(children=(HTML(value=''), FloatProgress(value=0.0, max=10.0), HTML(value='')))"
      ]
     },
     "metadata": {},
     "output_type": "display_data"
    },
    {
     "name": "stdout",
     "output_type": "stream",
     "text": [
      "\n"
     ]
    }
   ],
   "source": [
    "changes = []\n",
    "\n",
    "for repo, owner in tqdm(repos.items()):\n",
    "    query = '{\\n    repository(name: \"' + repo + '\", owner: \"' + owner + '\") {' + \\\n",
    "    \"\"\"\n",
    "        pullRequests(first: 100) {\n",
    "            nodes {\n",
    "                commits(first: 15) {\n",
    "                    nodes {\n",
    "                        commit {\n",
    "                            additions\n",
    "                            deletions\n",
    "                        }\n",
    "                    }\n",
    "                }\n",
    "            }\n",
    "        }\n",
    "    }\n",
    "}\n",
    "    \"\"\"\n",
    "    try:\n",
    "        result = run_query(query)\n",
    "    except:\n",
    "        continue\n",
    "        \n",
    "    prs = result[\"data\"][\"repository\"][\"pullRequests\"][\"nodes\"]\n",
    "    \n",
    "    for pr in prs:\n",
    "        tmp = 0\n",
    "        commits = pr[\"commits\"][\"nodes\"]\n",
    "        for commit in commits:\n",
    "            tmp += commit[\"commit\"][\"additions\"]\n",
    "        \n",
    "        changes.append(tmp)"
   ]
  },
  {
   "cell_type": "code",
   "execution_count": 87,
   "metadata": {},
   "outputs": [
    {
     "data": {
      "image/png": "[encoded data removed]",
      "text/plain": [
       "<Figure size 1080x576 with 1 Axes>"
      ]
     },
     "metadata": {
      "needs_background": "light"
     },
     "output_type": "display_data"
    }
   ],
   "source": [
    "plt.figure(figsize=(15, 8))\n",
    "sns.histplot(changes, bins=2000, cumulative=True, color=\"dodgerblue\", alpha=0.3)\n",
    "sns.histplot(changes, bins=2000, cumulative=False, color=\"tomato\", alpha=1)\n",
    "plt.xlim(0, 3000)\n",
    "plt.ylim(0, 1000)\n",
    "plt.xlabel(\"Code change per PR\", fontsize=18)\n",
    "plt.ylabel(\"Count\", fontsize=18)\n",
    "plt.show()"
   ]
  },
  {
   "cell_type": "code",
   "execution_count": 97,
   "metadata": {},
   "outputs": [
    {
     "data": {
      "text/plain": [
       "16.0"
      ]
     },
     "execution_count": 97,
     "metadata": {},
     "output_type": "execute_result"
    }
   ],
   "source": [
    "median(changes)"
   ]
  },
  {
   "cell_type": "code",
   "execution_count": 102,
   "metadata": {},
   "outputs": [
    {
     "data": {
      "text/plain": [
       "6036.876481977883"
      ]
     },
     "execution_count": 102,
     "metadata": {},
     "output_type": "execute_result"
    }
   ],
   "source": [
    "stdev(changes)"
   ]
  },
  {
   "cell_type": "markdown",
   "metadata": {},
   "source": [
    "他の言語ではどうなっているか？"
   ]
  },
  {
   "cell_type": "markdown",
   "metadata": {},
   "source": [
    "## Rust\n",
    "\n",
    "### １つのPRに何個のCommit が含まれているか"
   ]
  },
  {
   "cell_type": "code",
   "execution_count": 60,
   "metadata": {},
   "outputs": [
    {
     "data": {
      "application/vnd.jupyter.widget-view+json": {
       "model_id": "eaa6bb7713e34d6aa24fe692f374a395",
       "version_major": 2,
       "version_minor": 0
      },
      "text/plain": [
       "HBox(children=(HTML(value=''), FloatProgress(value=0.0, max=8.0), HTML(value='')))"
      ]
     },
     "metadata": {},
     "output_type": "display_data"
    },
    {
     "name": "stdout",
     "output_type": "stream",
     "text": [
      "\n"
     ]
    }
   ],
   "source": [
    "repos_rs = {\n",
    "    \"rust\": \"rust-lang\",\n",
    "    \"servo\": \"servo\",\n",
    "    \"Rocket\": \"SergioBenitez\",\n",
    "    \"actix-web\": \"actix\",\n",
    "    \"tokio\": \"tokio-rs\",\n",
    "    \"hyper\": \"hyperium\",\n",
    "    \"cargo\": \"rust-lang\",\n",
    "    \"serde\": \"serde-rs\"\n",
    "}\n",
    "\n",
    "commits_per_prs_rs = []\n",
    "\n",
    "for repo, owner in tqdm(repos_rs.items()):\n",
    "    query = '{\\n    repository(name: \"' + repo + '\", owner: \"' + owner + '\") {' + \\\n",
    "    \"\"\"\n",
    "        pullRequests(first: 100) {\n",
    "            nodes {\n",
    "                commits(first: 1) {\n",
    "                    totalCount\n",
    "                }\n",
    "            }\n",
    "        }\n",
    "    }\n",
    "}\n",
    "    \"\"\"\n",
    "    result = run_query(query)\n",
    "    prs = result[\"data\"][\"repository\"][\"pullRequests\"][\"nodes\"]\n",
    "    \n",
    "    for pr in prs:\n",
    "        commits_per_prs_rs.append(pr[\"commits\"][\"totalCount\"])"
   ]
  },
  {
   "cell_type": "code",
   "execution_count": 88,
   "metadata": {},
   "outputs": [
    {
     "data": {
      "image/png": "[encoded data removed]",
      "text/plain": [
       "<Figure size 1080x576 with 1 Axes>"
      ]
     },
     "metadata": {
      "needs_background": "light"
     },
     "output_type": "display_data"
    }
   ],
   "source": [
    "plt.figure(figsize=(15, 8))\n",
    "sns.histplot(commits_per_prs_rs, bins=400, cumulative=True, color=\"dodgerblue\", alpha=0.3)\n",
    "sns.histplot(commits_per_prs_rs, bins=400, cumulative=False, color=\"tomato\", alpha=1)\n",
    "plt.xlim(0, 50)\n",
    "plt.ylim(0, 800)\n",
    "plt.xlabel(\"Commits per PR\", fontsize=18)\n",
    "plt.ylabel(\"Count\", fontsize=18)\n",
    "plt.show()"
   ]
  },
  {
   "cell_type": "code",
   "execution_count": 98,
   "metadata": {},
   "outputs": [
    {
     "data": {
      "text/plain": [
       "1.0"
      ]
     },
     "execution_count": 98,
     "metadata": {},
     "output_type": "execute_result"
    }
   ],
   "source": [
    "median(commits_per_prs_rs)"
   ]
  },
  {
   "cell_type": "code",
   "execution_count": 106,
   "metadata": {},
   "outputs": [
    {
     "data": {
      "text/plain": [
       "45.50577730516955"
      ]
     },
     "execution_count": 106,
     "metadata": {},
     "output_type": "execute_result"
    }
   ],
   "source": [
    "stdev(commits_per_prs_rs)"
   ]
  },
  {
   "cell_type": "markdown",
   "metadata": {},
   "source": [
    "### 1つのPRの変更差分はどれくらいか"
   ]
  },
  {
   "cell_type": "code",
   "execution_count": 66,
   "metadata": {},
   "outputs": [
    {
     "data": {
      "application/vnd.jupyter.widget-view+json": {
       "model_id": "598453c3ad624768b7ff1ff61bbee4df",
       "version_major": 2,
       "version_minor": 0
      },
      "text/plain": [
       "HBox(children=(HTML(value=''), FloatProgress(value=0.0, max=8.0), HTML(value='')))"
      ]
     },
     "metadata": {},
     "output_type": "display_data"
    },
    {
     "name": "stdout",
     "output_type": "stream",
     "text": [
      "\n"
     ]
    }
   ],
   "source": [
    "changes_rs = []\n",
    "\n",
    "for repo, owner in tqdm(repos_rs.items()):\n",
    "    query = '{\\n    repository(name: \"' + repo + '\", owner: \"' + owner + '\") {' + \\\n",
    "    \"\"\"\n",
    "        pullRequests(first: 100) {\n",
    "            nodes {\n",
    "                commits(first: 15) {\n",
    "                    nodes {\n",
    "                        commit {\n",
    "                            additions\n",
    "                            deletions\n",
    "                        }\n",
    "                    }\n",
    "                }\n",
    "            }\n",
    "        }\n",
    "    }\n",
    "}\n",
    "    \"\"\"\n",
    "    try:\n",
    "        result = run_query(query)\n",
    "    except:\n",
    "        continue\n",
    "        \n",
    "    prs = result[\"data\"][\"repository\"][\"pullRequests\"][\"nodes\"]\n",
    "    \n",
    "    for pr in prs:\n",
    "        tmp = 0\n",
    "        commits = pr[\"commits\"][\"nodes\"]\n",
    "        for commit in commits:\n",
    "            tmp += commit[\"commit\"][\"additions\"]\n",
    "        \n",
    "        changes_rs.append(tmp)"
   ]
  },
  {
   "cell_type": "code",
   "execution_count": 89,
   "metadata": {},
   "outputs": [
    {
     "data": {
      "image/png": "[encoded data removed]",
      "text/plain": [
       "<Figure size 1080x576 with 1 Axes>"
      ]
     },
     "metadata": {
      "needs_background": "light"
     },
     "output_type": "display_data"
    }
   ],
   "source": [
    "plt.figure(figsize=(15, 8))\n",
    "sns.histplot(changes_rs, bins=200, cumulative=True, color=\"dodgerblue\", alpha=0.3)\n",
    "sns.histplot(changes_rs, bins=200, cumulative=False, color=\"tomato\", alpha=1)\n",
    "plt.xlim(0, 3000)\n",
    "plt.ylim(0, 800)\n",
    "plt.xlabel(\"Code change per PR\", fontsize=18)\n",
    "plt.ylabel(\"Count\", fontsize=18)\n",
    "plt.show()"
   ]
  },
  {
   "cell_type": "code",
   "execution_count": 99,
   "metadata": {},
   "outputs": [
    {
     "data": {
      "text/plain": [
       "29.0"
      ]
     },
     "execution_count": 99,
     "metadata": {},
     "output_type": "execute_result"
    }
   ],
   "source": [
    "median(changes_rs)"
   ]
  },
  {
   "cell_type": "code",
   "execution_count": 107,
   "metadata": {},
   "outputs": [
    {
     "data": {
      "text/plain": [
       "832.1144401314531"
      ]
     },
     "execution_count": 107,
     "metadata": {},
     "output_type": "execute_result"
    }
   ],
   "source": [
    "stdev(changes_rs)"
   ]
  },
  {
   "cell_type": "code",
   "execution_count": null,
   "metadata": {},
   "outputs": [],
   "source": []
  }
 ],
 "metadata": {
  "kernelspec": {
   "display_name": "Python 3",
   "language": "python",
   "name": "python3"
  },
  "language_info": {
   "codemirror_mode": {
    "name": "ipython",
    "version": 3
   },
   "file_extension": ".py",
   "mimetype": "text/x-python",
   "name": "python",
   "nbconvert_exporter": "python",
   "pygments_lexer": "ipython3",
   "version": "3.8.2"
  },
  "toc": {
   "base_numbering": 1,
   "nav_menu": {},
   "number_sections": true,
   "sideBar": true,
   "skip_h1_title": false,
   "title_cell": "Table of Contents",
   "title_sidebar": "Contents",
   "toc_cell": false,
   "toc_position": {},
   "toc_section_display": true,
   "toc_window_display": false
  }
 },
 "nbformat": 4,
 "nbformat_minor": 4
}
