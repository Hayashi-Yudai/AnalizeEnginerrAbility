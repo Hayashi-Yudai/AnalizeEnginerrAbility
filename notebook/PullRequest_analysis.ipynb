{
 "cells": [
  {
   "cell_type": "code",
   "execution_count": 1,
   "metadata": {},
   "outputs": [],
   "source": [
    "from datetime import datetime\n",
    "import numpy as np\n",
    "import pandas as pd\n",
    "import dotenv\n",
    "import os\n",
    "import matplotlib.pyplot as plt\n",
    "import requests\n",
    "from requests.auth import HTTPBasicAuth\n",
    "import seaborn as sns\n",
    "from scipy import stats\n",
    "from tqdm.notebook import tqdm\n",
    "from statistics import median, stdev, variance, mean\n",
    "\n",
    "plt.rcParams[\"font.family\"] = \"Arial\"\n",
    "plt.rcParams[\"xtick.labelsize\"] = 18\n",
    "plt.rcParams[\"ytick.labelsize\"] = 18\n",
    "plt.rcParams[\"xtick.direction\"] = \"in\"\n",
    "plt.rcParams[\"ytick.direction\"] = \"in\"\n",
    "plt.rcParams[\"xtick.major.size\"] = 12\n",
    "plt.rcParams[\"ytick.major.size\"] = 12\n",
    "plt.rcParams[\"xtick.major.pad\"] = 18\n",
    "plt.rcParams[\"ytick.major.pad\"] = 18\n",
    "plt.rcParams['axes.linewidth'] = 1.0\n",
    "\n",
    "dotenv.load_dotenv()\n",
    "\n",
    "headers = {\"Authorization\": f\"Bearer {os.environ.get('GITHUB_TOKEN')}\"}\n",
    "\n",
    "\n",
    "def run_query(query):\n",
    "    request = requests.post('https://api.github.com/graphql', json={'query': query}, headers=headers)\n",
    "    if request.status_code == 200:\n",
    "        return request.json()\n",
    "    else:\n",
    "        raise Exception(\"Query failed to run by returning code of {}. {}\".format(request.status_code, query))"
   ]
  },
  {
   "cell_type": "markdown",
   "metadata": {},
   "source": [
    "## 必要データの取得 （最初の１回のみ実行）"
   ]
  },
  {
   "cell_type": "markdown",
   "metadata": {},
   "source": [
    "GraphQL のクエリテスト"
   ]
  },
  {
   "cell_type": "code",
   "execution_count": 2,
   "metadata": {},
   "outputs": [
    {
     "data": {
      "text/plain": [
       "{'data': {'user': {'pullRequests': {'totalCount': 86,\n",
       "    'nodes': [{'id': 'MDExOlB1bGxSZXF1ZXN0MjcyNzUzNTMw',\n",
       "      'merged': True,\n",
       "      'mergedAt': '2019-04-23T14:22:02Z',\n",
       "      'author': {'login': 'Hayashi-Yudai'},\n",
       "      'mergedBy': {'login': 'Hayashi-Yudai'},\n",
       "      'number': 2,\n",
       "      'repository': {'name': 'ML_models',\n",
       "       'owner': {'login': 'Hayashi-Yudai'}}}]}}}}"
      ]
     },
     "execution_count": 2,
     "metadata": {},
     "output_type": "execute_result"
    }
   ],
   "source": [
    "query = \"\"\"\n",
    "{\n",
    "    user(login:\"Hayashi-Yudai\") {\n",
    "        pullRequests(last: 1, orderBy:{direction: DESC, field:CREATED_AT}) {\n",
    "            totalCount\n",
    "            nodes {\n",
    "                id\n",
    "                merged\n",
    "                mergedAt\n",
    "                author {\n",
    "                    login\n",
    "                }\n",
    "                mergedBy {\n",
    "                    login\n",
    "                }\n",
    "                number\n",
    "                repository {\n",
    "                    name\n",
    "                    owner {\n",
    "                        login\n",
    "                    }\n",
    "                }\n",
    "            }\n",
    "        }\n",
    "    }\n",
    "}\n",
    "\"\"\"\n",
    "result = run_query(query) # Execute the query\n",
    "result"
   ]
  },
  {
   "cell_type": "code",
   "execution_count": 3,
   "metadata": {},
   "outputs": [
    {
     "data": {
      "text/html": [
       "<div>\n",
       "<style scoped>\n",
       "    .dataframe tbody tr th:only-of-type {\n",
       "        vertical-align: middle;\n",
       "    }\n",
       "\n",
       "    .dataframe tbody tr th {\n",
       "        vertical-align: top;\n",
       "    }\n",
       "\n",
       "    .dataframe thead th {\n",
       "        text-align: right;\n",
       "    }\n",
       "</style>\n",
       "<table border=\"1\" class=\"dataframe\">\n",
       "  <thead>\n",
       "    <tr style=\"text-align: right;\">\n",
       "      <th></th>\n",
       "      <th>username</th>\n",
       "      <th>star</th>\n",
       "      <th>created_at</th>\n",
       "      <th>updated_at</th>\n",
       "      <th>elapsed_time</th>\n",
       "      <th>star_per_day</th>\n",
       "      <th>star_per_day_biased</th>\n",
       "      <th>issue_count</th>\n",
       "      <th>issue_per_day_biased</th>\n",
       "    </tr>\n",
       "  </thead>\n",
       "  <tbody>\n",
       "    <tr>\n",
       "      <th>0</th>\n",
       "      <td>collymore</td>\n",
       "      <td>8</td>\n",
       "      <td>2009-02-19 16:16:06</td>\n",
       "      <td>2020-09-26 11:37:56</td>\n",
       "      <td>4236</td>\n",
       "      <td>0.001889</td>\n",
       "      <td>0.001889</td>\n",
       "      <td>7</td>\n",
       "      <td>0.001653</td>\n",
       "    </tr>\n",
       "    <tr>\n",
       "      <th>1</th>\n",
       "      <td>sujanucsc</td>\n",
       "      <td>9</td>\n",
       "      <td>2009-03-12 16:20:20</td>\n",
       "      <td>2020-08-16 18:30:00</td>\n",
       "      <td>4175</td>\n",
       "      <td>0.002156</td>\n",
       "      <td>0.002156</td>\n",
       "      <td>0</td>\n",
       "      <td>0.000000</td>\n",
       "    </tr>\n",
       "    <tr>\n",
       "      <th>2</th>\n",
       "      <td>Theorem</td>\n",
       "      <td>0</td>\n",
       "      <td>2018-03-15 21:04:11</td>\n",
       "      <td>2020-07-28 05:07:27</td>\n",
       "      <td>865</td>\n",
       "      <td>0.000000</td>\n",
       "      <td>0.000000</td>\n",
       "      <td>0</td>\n",
       "      <td>0.000000</td>\n",
       "    </tr>\n",
       "    <tr>\n",
       "      <th>3</th>\n",
       "      <td>mussawir20</td>\n",
       "      <td>1</td>\n",
       "      <td>2009-05-03 00:01:17</td>\n",
       "      <td>2020-09-18 14:41:17</td>\n",
       "      <td>4156</td>\n",
       "      <td>0.000241</td>\n",
       "      <td>0.000241</td>\n",
       "      <td>0</td>\n",
       "      <td>0.000000</td>\n",
       "    </tr>\n",
       "    <tr>\n",
       "      <th>4</th>\n",
       "      <td>bytheway</td>\n",
       "      <td>958</td>\n",
       "      <td>2008-04-04 17:43:29</td>\n",
       "      <td>2020-09-24 13:30:55</td>\n",
       "      <td>4555</td>\n",
       "      <td>0.210318</td>\n",
       "      <td>0.210318</td>\n",
       "      <td>11</td>\n",
       "      <td>0.002415</td>\n",
       "    </tr>\n",
       "  </tbody>\n",
       "</table>\n",
       "</div>"
      ],
      "text/plain": [
       "     username  star           created_at           updated_at  elapsed_time  \\\n",
       "0   collymore     8  2009-02-19 16:16:06  2020-09-26 11:37:56          4236   \n",
       "1   sujanucsc     9  2009-03-12 16:20:20  2020-08-16 18:30:00          4175   \n",
       "2     Theorem     0  2018-03-15 21:04:11  2020-07-28 05:07:27           865   \n",
       "3  mussawir20     1  2009-05-03 00:01:17  2020-09-18 14:41:17          4156   \n",
       "4    bytheway   958  2008-04-04 17:43:29  2020-09-24 13:30:55          4555   \n",
       "\n",
       "   star_per_day  star_per_day_biased  issue_count  issue_per_day_biased  \n",
       "0      0.001889             0.001889            7              0.001653  \n",
       "1      0.002156             0.002156            0              0.000000  \n",
       "2      0.000000             0.000000            0              0.000000  \n",
       "3      0.000241             0.000241            0              0.000000  \n",
       "4      0.210318             0.210318           11              0.002415  "
      ]
     },
     "execution_count": 3,
     "metadata": {},
     "output_type": "execute_result"
    }
   ],
   "source": [
    "user_info = pd.read_csv(\"./data/user_info_1.csv\")\n",
    "user_info.head()"
   ]
  },
  {
   "cell_type": "markdown",
   "metadata": {},
   "source": [
    "上のユーザーリストから `username` を取ってきて、そのユーザーの出している Pull Request を最大 100 件新しい順に取得する"
   ]
  },
  {
   "cell_type": "code",
   "execution_count": 5,
   "metadata": {},
   "outputs": [
    {
     "data": {
      "application/vnd.jupyter.widget-view+json": {
       "model_id": "596ecb9281b547739d6d733a39a92c4f",
       "version_major": 2,
       "version_minor": 0
      },
      "text/plain": [
       "HBox(children=(HTML(value=''), FloatProgress(value=0.0, max=1000.0), HTML(value='')))"
      ]
     },
     "metadata": {},
     "output_type": "display_data"
    },
    {
     "name": "stdout",
     "output_type": "stream",
     "text": [
      "\n"
     ]
    }
   ],
   "source": [
    "pr_ids = []\n",
    "usernames = []\n",
    "are_merged = []\n",
    "merged_at = []\n",
    "pr_authors = []\n",
    "merged_by = []\n",
    "\n",
    "for user in tqdm(user_info.username):\n",
    "    query = '{\\n  user(login: \"' + user + '\") {' + \\\n",
    "        \"\"\"\n",
    "        pullRequests(last: 100, orderBy:{direction: DESC, field:CREATED_AT}) {\n",
    "            nodes {\n",
    "                id\n",
    "                merged\n",
    "                mergedAt\n",
    "                author {\n",
    "                    login\n",
    "                }\n",
    "                mergedBy {\n",
    "                    login\n",
    "                }\n",
    "                number\n",
    "                repository {\n",
    "                    name\n",
    "                    owner {\n",
    "                        login\n",
    "                    }\n",
    "                }\n",
    "            }\n",
    "        }\n",
    "    }\n",
    "}\n",
    "        \"\"\"\n",
    "    try:\n",
    "        prs = run_query(query)[\"data\"][\"user\"][\"pullRequests\"][\"nodes\"]\n",
    "    except:\n",
    "        continue\n",
    "    \n",
    "    for pr in prs:\n",
    "        pr_ids.append(pr[\"id\"])\n",
    "        usernames.append(user)\n",
    "        are_merged.append(pr[\"merged\"])\n",
    "        merged_at.append(pr[\"mergedAt\"])\n",
    "        pr_authors.append(pr[\"author\"][\"login\"])\n",
    "        \n",
    "        if pr[\"merged\"]:\n",
    "            try:\n",
    "                merged_by.append(pr[\"mergedBy\"][\"login\"])\n",
    "            except :\n",
    "                merged_by.append(None)\n",
    "        else:\n",
    "            merged_by.append(None)\n",
    "    "
   ]
  },
  {
   "cell_type": "code",
   "execution_count": 6,
   "metadata": {},
   "outputs": [
    {
     "data": {
      "text/html": [
       "<div>\n",
       "<style scoped>\n",
       "    .dataframe tbody tr th:only-of-type {\n",
       "        vertical-align: middle;\n",
       "    }\n",
       "\n",
       "    .dataframe tbody tr th {\n",
       "        vertical-align: top;\n",
       "    }\n",
       "\n",
       "    .dataframe thead th {\n",
       "        text-align: right;\n",
       "    }\n",
       "</style>\n",
       "<table border=\"1\" class=\"dataframe\">\n",
       "  <thead>\n",
       "    <tr style=\"text-align: right;\">\n",
       "      <th></th>\n",
       "      <th>id</th>\n",
       "      <th>username</th>\n",
       "      <th>is_merged</th>\n",
       "      <th>merged_at</th>\n",
       "      <th>author</th>\n",
       "      <th>merged_by</th>\n",
       "    </tr>\n",
       "  </thead>\n",
       "  <tbody>\n",
       "    <tr>\n",
       "      <th>0</th>\n",
       "      <td>MDExOlB1bGxSZXF1ZXN0Mjc0MDk5NTYz</td>\n",
       "      <td>collymore</td>\n",
       "      <td>False</td>\n",
       "      <td>None</td>\n",
       "      <td>collymore</td>\n",
       "      <td>None</td>\n",
       "    </tr>\n",
       "    <tr>\n",
       "      <th>1</th>\n",
       "      <td>MDExOlB1bGxSZXF1ZXN0MjY3MTA2NjQ2</td>\n",
       "      <td>collymore</td>\n",
       "      <td>True</td>\n",
       "      <td>2019-04-03T15:45:05Z</td>\n",
       "      <td>collymore</td>\n",
       "      <td>collymore</td>\n",
       "    </tr>\n",
       "    <tr>\n",
       "      <th>2</th>\n",
       "      <td>MDExOlB1bGxSZXF1ZXN0MjQyNDMwOTI1</td>\n",
       "      <td>collymore</td>\n",
       "      <td>True</td>\n",
       "      <td>2019-01-07T09:39:55Z</td>\n",
       "      <td>collymore</td>\n",
       "      <td>lewisvoncken</td>\n",
       "    </tr>\n",
       "    <tr>\n",
       "      <th>3</th>\n",
       "      <td>MDExOlB1bGxSZXF1ZXN0MjQyNDI4OTYy</td>\n",
       "      <td>collymore</td>\n",
       "      <td>False</td>\n",
       "      <td>None</td>\n",
       "      <td>collymore</td>\n",
       "      <td>None</td>\n",
       "    </tr>\n",
       "    <tr>\n",
       "      <th>4</th>\n",
       "      <td>MDExOlB1bGxSZXF1ZXN0MjM3ODM3MzMy</td>\n",
       "      <td>collymore</td>\n",
       "      <td>True</td>\n",
       "      <td>2018-12-13T19:46:14Z</td>\n",
       "      <td>collymore</td>\n",
       "      <td>filrak</td>\n",
       "    </tr>\n",
       "  </tbody>\n",
       "</table>\n",
       "</div>"
      ],
      "text/plain": [
       "                                 id   username  is_merged  \\\n",
       "0  MDExOlB1bGxSZXF1ZXN0Mjc0MDk5NTYz  collymore      False   \n",
       "1  MDExOlB1bGxSZXF1ZXN0MjY3MTA2NjQ2  collymore       True   \n",
       "2  MDExOlB1bGxSZXF1ZXN0MjQyNDMwOTI1  collymore       True   \n",
       "3  MDExOlB1bGxSZXF1ZXN0MjQyNDI4OTYy  collymore      False   \n",
       "4  MDExOlB1bGxSZXF1ZXN0MjM3ODM3MzMy  collymore       True   \n",
       "\n",
       "              merged_at     author     merged_by  \n",
       "0                  None  collymore          None  \n",
       "1  2019-04-03T15:45:05Z  collymore     collymore  \n",
       "2  2019-01-07T09:39:55Z  collymore  lewisvoncken  \n",
       "3                  None  collymore          None  \n",
       "4  2018-12-13T19:46:14Z  collymore        filrak  "
      ]
     },
     "execution_count": 6,
     "metadata": {},
     "output_type": "execute_result"
    }
   ],
   "source": [
    "pr_merge = pd.DataFrame({\n",
    "    \"id\": pr_ids,\n",
    "    \"username\": usernames,\n",
    "    \"is_merged\": are_merged,\n",
    "    \"merged_at\": merged_at,\n",
    "    \"author\": pr_authors,\n",
    "    \"merged_by\": merged_by,\n",
    "})\n",
    "\n",
    "pr_merge.to_csv(\"./data/PR_merge_info.csv\", index=False)\n",
    "pr_merge.head()"
   ]
  },
  {
   "cell_type": "markdown",
   "metadata": {},
   "source": [
    "## データの解析"
   ]
  },
  {
   "cell_type": "code",
   "execution_count": 7,
   "metadata": {},
   "outputs": [],
   "source": [
    "pr_merge = pd.read_csv(\"./data/PR_merge_info.csv\")"
   ]
  },
  {
   "cell_type": "code",
   "execution_count": 8,
   "metadata": {},
   "outputs": [],
   "source": [
    "def time_format(t):\n",
    "    try:\n",
    "        time = datetime.strptime(t, \"%Y-%m-%dT%H:%M:%SZ\")\n",
    "    except:\n",
    "        return None\n",
    "    \n",
    "    return time\n",
    "\n",
    "pr_merge[\"merged_at\"] = pr_merge.merged_at.apply(time_format)"
   ]
  },
  {
   "cell_type": "code",
   "execution_count": 9,
   "metadata": {},
   "outputs": [],
   "source": [
    "pr_merge[\"merge_oneself\"] = pr_merge.author == pr_merge.merged_by"
   ]
  },
  {
   "cell_type": "code",
   "execution_count": 16,
   "metadata": {},
   "outputs": [
    {
     "data": {
      "text/html": [
       "<div>\n",
       "<style scoped>\n",
       "    .dataframe tbody tr th:only-of-type {\n",
       "        vertical-align: middle;\n",
       "    }\n",
       "\n",
       "    .dataframe tbody tr th {\n",
       "        vertical-align: top;\n",
       "    }\n",
       "\n",
       "    .dataframe thead th {\n",
       "        text-align: right;\n",
       "    }\n",
       "</style>\n",
       "<table border=\"1\" class=\"dataframe\">\n",
       "  <thead>\n",
       "    <tr style=\"text-align: right;\">\n",
       "      <th></th>\n",
       "      <th>id</th>\n",
       "      <th>username</th>\n",
       "      <th>is_merged</th>\n",
       "      <th>merged_at</th>\n",
       "      <th>author</th>\n",
       "      <th>merged_by</th>\n",
       "      <th>merge_oneself</th>\n",
       "    </tr>\n",
       "  </thead>\n",
       "  <tbody>\n",
       "    <tr>\n",
       "      <th>0</th>\n",
       "      <td>MDExOlB1bGxSZXF1ZXN0Mjc0MDk5NTYz</td>\n",
       "      <td>collymore</td>\n",
       "      <td>False</td>\n",
       "      <td>NaT</td>\n",
       "      <td>collymore</td>\n",
       "      <td>NaN</td>\n",
       "      <td>False</td>\n",
       "    </tr>\n",
       "    <tr>\n",
       "      <th>1</th>\n",
       "      <td>MDExOlB1bGxSZXF1ZXN0MjY3MTA2NjQ2</td>\n",
       "      <td>collymore</td>\n",
       "      <td>True</td>\n",
       "      <td>2019-04-03 15:45:05</td>\n",
       "      <td>collymore</td>\n",
       "      <td>collymore</td>\n",
       "      <td>True</td>\n",
       "    </tr>\n",
       "    <tr>\n",
       "      <th>2</th>\n",
       "      <td>MDExOlB1bGxSZXF1ZXN0MjQyNDMwOTI1</td>\n",
       "      <td>collymore</td>\n",
       "      <td>True</td>\n",
       "      <td>2019-01-07 09:39:55</td>\n",
       "      <td>collymore</td>\n",
       "      <td>lewisvoncken</td>\n",
       "      <td>False</td>\n",
       "    </tr>\n",
       "    <tr>\n",
       "      <th>3</th>\n",
       "      <td>MDExOlB1bGxSZXF1ZXN0MjQyNDI4OTYy</td>\n",
       "      <td>collymore</td>\n",
       "      <td>False</td>\n",
       "      <td>NaT</td>\n",
       "      <td>collymore</td>\n",
       "      <td>NaN</td>\n",
       "      <td>False</td>\n",
       "    </tr>\n",
       "    <tr>\n",
       "      <th>4</th>\n",
       "      <td>MDExOlB1bGxSZXF1ZXN0MjM3ODM3MzMy</td>\n",
       "      <td>collymore</td>\n",
       "      <td>True</td>\n",
       "      <td>2018-12-13 19:46:14</td>\n",
       "      <td>collymore</td>\n",
       "      <td>filrak</td>\n",
       "      <td>False</td>\n",
       "    </tr>\n",
       "  </tbody>\n",
       "</table>\n",
       "</div>"
      ],
      "text/plain": [
       "                                 id   username  is_merged           merged_at  \\\n",
       "0  MDExOlB1bGxSZXF1ZXN0Mjc0MDk5NTYz  collymore      False                 NaT   \n",
       "1  MDExOlB1bGxSZXF1ZXN0MjY3MTA2NjQ2  collymore       True 2019-04-03 15:45:05   \n",
       "2  MDExOlB1bGxSZXF1ZXN0MjQyNDMwOTI1  collymore       True 2019-01-07 09:39:55   \n",
       "3  MDExOlB1bGxSZXF1ZXN0MjQyNDI4OTYy  collymore      False                 NaT   \n",
       "4  MDExOlB1bGxSZXF1ZXN0MjM3ODM3MzMy  collymore       True 2018-12-13 19:46:14   \n",
       "\n",
       "      author     merged_by  merge_oneself  \n",
       "0  collymore           NaN          False  \n",
       "1  collymore     collymore           True  \n",
       "2  collymore  lewisvoncken          False  \n",
       "3  collymore           NaN          False  \n",
       "4  collymore        filrak          False  "
      ]
     },
     "execution_count": 16,
     "metadata": {},
     "output_type": "execute_result"
    }
   ],
   "source": [
    "pr_merge.head()"
   ]
  },
  {
   "cell_type": "code",
   "execution_count": 12,
   "metadata": {},
   "outputs": [
    {
     "data": {
      "image/png": "[encoded data removed]",
      "text/plain": [
       "<Figure size 432x288 with 1 Axes>"
      ]
     },
     "metadata": {
      "needs_background": "light"
     },
     "output_type": "display_data"
    }
   ],
   "source": [
    "sns.countplot(x=\"is_merged\",  data=pr_merge)\n",
    "plt.ylim(0, 15000)\n",
    "plt.xlabel(\"is_merged\", fontsize=18)\n",
    "plt.ylabel(\"Count\", fontsize=18)\n",
    "plt.show()"
   ]
  },
  {
   "cell_type": "markdown",
   "metadata": {},
   "source": [
    "マージされたPRとマージされなかったPRの割合。全体の 1/4 くらいがマージされていないことがわかる。"
   ]
  },
  {
   "cell_type": "code",
   "execution_count": 20,
   "metadata": {},
   "outputs": [
    {
     "data": {
      "image/png": "[encoded data removed]",
      "text/plain": [
       "<Figure size 432x288 with 1 Axes>"
      ]
     },
     "metadata": {
      "needs_background": "light"
     },
     "output_type": "display_data"
    }
   ],
   "source": [
    "sns.countplot(x=\"merge_oneself\",  data=pr_merge[pr_merge.is_merged])\n",
    "plt.ylim(0, 10000)\n",
    "plt.xlabel(\"Merged by oneself\", fontsize=18)\n",
    "plt.ylabel(\"Count\", fontsize=18)\n",
    "plt.show()"
   ]
  },
  {
   "cell_type": "markdown",
   "metadata": {},
   "source": [
    "自分でPR作ってマージしているユーザーも一定数いる。ここからユーザーごとのPRを分析していく"
   ]
  },
  {
   "cell_type": "code",
   "execution_count": 21,
   "metadata": {},
   "outputs": [],
   "source": [
    "pr_by_user = pr_merge[[\"username\", \"is_merged\"]].groupby(\"username\").agg(np.sum)"
   ]
  },
  {
   "cell_type": "code",
   "execution_count": 22,
   "metadata": {},
   "outputs": [],
   "source": [
    "def false_sum(x):\n",
    "    result = 0\n",
    "    for e in x:\n",
    "        if not e:\n",
    "            result += 1\n",
    "    \n",
    "    return result\n",
    "\n",
    "pr_by_user[\"not_merged\"] = pr_merge[[\"username\", \"is_merged\"]].groupby(\"username\").agg(false_sum)"
   ]
  },
  {
   "cell_type": "code",
   "execution_count": 110,
   "metadata": {},
   "outputs": [],
   "source": [
    "def length(x):\n",
    "    return len(x)\n",
    "\n",
    "def merged_oneself_ratio(x):\n",
    "    return len(x[x.merge_oneself]) / (len(x[x.is_merged]) + 1)"
   ]
  },
  {
   "cell_type": "code",
   "execution_count": 111,
   "metadata": {},
   "outputs": [],
   "source": [
    "pr_by_user[\"total_pr_num\"] = pr_merge[[\"username\", \"is_merged\"]].groupby(\"username\").agg(length).is_merged\n",
    "pr_by_user[\"merged_ratio\"] = pr_by_user.is_merged / (pr_by_user.is_merged + pr_by_user.not_merged)\n",
    "pr_by_user[\"merged_oneself_ratio\"] = pr_merge[[\n",
    "    \"username\", \"merge_oneself\", \"is_merged\"\n",
    "]].groupby(\"username\").agg(merged_oneself_ratio).merge_oneself\n",
    "pr_by_user[\"not_merged_ratio\"] = 1 - pr_by_user.merged_ratio\n",
    "pr_by_user[\"merged_latest\"] = pr_merge[[\"username\", \"merged_at\"]].groupby(\"username\").agg(np.max).merged_at\n",
    "pr_by_user[\"merged_oldest\"] = pr_merge[[\"username\", \"merged_at\"]].groupby(\"username\").agg(np.min).merged_at"
   ]
  },
  {
   "cell_type": "code",
   "execution_count": 112,
   "metadata": {},
   "outputs": [],
   "source": [
    "def pr_by_day(x):\n",
    "    if (x.merged_latest-x.merged_oldest).days == 0:\n",
    "        return 0\n",
    "    else:\n",
    "        return x.total_pr_num / (x.merged_latest-x.merged_oldest).days\n",
    "\n",
    "pr_by_user[\"pr_per_day\"] = pr_by_user.apply(pr_by_day, axis=1)"
   ]
  },
  {
   "cell_type": "code",
   "execution_count": 113,
   "metadata": {},
   "outputs": [
    {
     "data": {
      "text/html": [
       "<div>\n",
       "<style scoped>\n",
       "    .dataframe tbody tr th:only-of-type {\n",
       "        vertical-align: middle;\n",
       "    }\n",
       "\n",
       "    .dataframe tbody tr th {\n",
       "        vertical-align: top;\n",
       "    }\n",
       "\n",
       "    .dataframe thead th {\n",
       "        text-align: right;\n",
       "    }\n",
       "</style>\n",
       "<table border=\"1\" class=\"dataframe\">\n",
       "  <thead>\n",
       "    <tr style=\"text-align: right;\">\n",
       "      <th></th>\n",
       "      <th>is_merged</th>\n",
       "      <th>not_merged</th>\n",
       "      <th>total_pr_num</th>\n",
       "      <th>merged_ratio</th>\n",
       "      <th>merged_oneself_ratio</th>\n",
       "      <th>not_merged_ratio</th>\n",
       "      <th>merged_latest</th>\n",
       "      <th>merged_oldest</th>\n",
       "      <th>pr_per_day</th>\n",
       "    </tr>\n",
       "    <tr>\n",
       "      <th>username</th>\n",
       "      <th></th>\n",
       "      <th></th>\n",
       "      <th></th>\n",
       "      <th></th>\n",
       "      <th></th>\n",
       "      <th></th>\n",
       "      <th></th>\n",
       "      <th></th>\n",
       "      <th></th>\n",
       "    </tr>\n",
       "  </thead>\n",
       "  <tbody>\n",
       "    <tr>\n",
       "      <th>Abizern</th>\n",
       "      <td>74</td>\n",
       "      <td>26</td>\n",
       "      <td>100</td>\n",
       "      <td>0.740000</td>\n",
       "      <td>0.013333</td>\n",
       "      <td>0.260000</td>\n",
       "      <td>2015-11-12 18:08:10</td>\n",
       "      <td>2010-12-06 17:50:50</td>\n",
       "      <td>0.055494</td>\n",
       "    </tr>\n",
       "    <tr>\n",
       "      <th>Anks</th>\n",
       "      <td>8</td>\n",
       "      <td>8</td>\n",
       "      <td>16</td>\n",
       "      <td>0.500000</td>\n",
       "      <td>0.222222</td>\n",
       "      <td>0.500000</td>\n",
       "      <td>2020-07-21 07:31:42</td>\n",
       "      <td>2011-12-27 14:56:46</td>\n",
       "      <td>0.005115</td>\n",
       "    </tr>\n",
       "    <tr>\n",
       "      <th>Auswaschbar</th>\n",
       "      <td>0</td>\n",
       "      <td>2</td>\n",
       "      <td>2</td>\n",
       "      <td>0.000000</td>\n",
       "      <td>0.000000</td>\n",
       "      <td>1.000000</td>\n",
       "      <td>NaT</td>\n",
       "      <td>NaT</td>\n",
       "      <td>NaN</td>\n",
       "    </tr>\n",
       "    <tr>\n",
       "      <th>BrianMowrey</th>\n",
       "      <td>4</td>\n",
       "      <td>3</td>\n",
       "      <td>7</td>\n",
       "      <td>0.571429</td>\n",
       "      <td>0.000000</td>\n",
       "      <td>0.428571</td>\n",
       "      <td>2015-05-26 10:08:37</td>\n",
       "      <td>2015-02-27 06:17:08</td>\n",
       "      <td>0.079545</td>\n",
       "    </tr>\n",
       "    <tr>\n",
       "      <th>CHH</th>\n",
       "      <td>42</td>\n",
       "      <td>11</td>\n",
       "      <td>53</td>\n",
       "      <td>0.792453</td>\n",
       "      <td>0.232558</td>\n",
       "      <td>0.207547</td>\n",
       "      <td>2020-02-20 22:33:51</td>\n",
       "      <td>2011-12-28 16:46:32</td>\n",
       "      <td>0.017809</td>\n",
       "    </tr>\n",
       "  </tbody>\n",
       "</table>\n",
       "</div>"
      ],
      "text/plain": [
       "             is_merged  not_merged  total_pr_num  merged_ratio  \\\n",
       "username                                                         \n",
       "Abizern             74          26           100      0.740000   \n",
       "Anks                 8           8            16      0.500000   \n",
       "Auswaschbar          0           2             2      0.000000   \n",
       "BrianMowrey          4           3             7      0.571429   \n",
       "CHH                 42          11            53      0.792453   \n",
       "\n",
       "             merged_oneself_ratio  not_merged_ratio       merged_latest  \\\n",
       "username                                                                  \n",
       "Abizern                  0.013333          0.260000 2015-11-12 18:08:10   \n",
       "Anks                     0.222222          0.500000 2020-07-21 07:31:42   \n",
       "Auswaschbar              0.000000          1.000000                 NaT   \n",
       "BrianMowrey              0.000000          0.428571 2015-05-26 10:08:37   \n",
       "CHH                      0.232558          0.207547 2020-02-20 22:33:51   \n",
       "\n",
       "                  merged_oldest  pr_per_day  \n",
       "username                                     \n",
       "Abizern     2010-12-06 17:50:50    0.055494  \n",
       "Anks        2011-12-27 14:56:46    0.005115  \n",
       "Auswaschbar                 NaT         NaN  \n",
       "BrianMowrey 2015-02-27 06:17:08    0.079545  \n",
       "CHH         2011-12-28 16:46:32    0.017809  "
      ]
     },
     "execution_count": 113,
     "metadata": {},
     "output_type": "execute_result"
    }
   ],
   "source": [
    "pr_by_user.head()"
   ]
  },
  {
   "cell_type": "code",
   "execution_count": 114,
   "metadata": {},
   "outputs": [
    {
     "data": {
      "text/plain": [
       "519"
      ]
     },
     "execution_count": 114,
     "metadata": {},
     "output_type": "execute_result"
    }
   ],
   "source": [
    "len(pr_by_user)"
   ]
  },
  {
   "cell_type": "markdown",
   "metadata": {},
   "source": [
    "PRを１つ以上出しているユーザーは 519人/1000人 しかいない"
   ]
  },
  {
   "cell_type": "code",
   "execution_count": 115,
   "metadata": {},
   "outputs": [
    {
     "data": {
      "image/png": "[encoded data removed]",
      "text/plain": [
       "<Figure size 432x288 with 1 Axes>"
      ]
     },
     "metadata": {
      "needs_background": "light"
     },
     "output_type": "display_data"
    }
   ],
   "source": [
    "sns.histplot(pr_by_user.merged_ratio, bins=35)\n",
    "plt.xlabel(\"Merged Ratio\", fontsize=18)\n",
    "plt.ylabel(\"Count\", fontsize=18)\n",
    "plt.show()"
   ]
  },
  {
   "cell_type": "markdown",
   "metadata": {},
   "source": [
    "出したPRの内、マージされたものの割合。出したPRが全てマージされているのは自分でPR出して自分でマージしているパターンか？"
   ]
  },
  {
   "cell_type": "code",
   "execution_count": 116,
   "metadata": {},
   "outputs": [
    {
     "data": {
      "image/png": "[encoded data removed]",
      "text/plain": [
       "<Figure size 432x288 with 1 Axes>"
      ]
     },
     "metadata": {
      "needs_background": "light"
     },
     "output_type": "display_data"
    }
   ],
   "source": [
    "sns.histplot(pr_by_user.merged_oneself_ratio, bins=15)\n",
    "plt.xlabel(\"Merged oneself ratio\", fontsize=18)\n",
    "plt.ylabel(\"Count\", fontsize=18)\n",
    "plt.show()"
   ]
  },
  {
   "cell_type": "markdown",
   "metadata": {},
   "source": [
    "自分でマージしている人はそんなに多くない印象"
   ]
  },
  {
   "cell_type": "code",
   "execution_count": 125,
   "metadata": {},
   "outputs": [
    {
     "data": {
      "image/png": "[encoded data removed]",
      "text/plain": [
       "<Figure size 432x288 with 1 Axes>"
      ]
     },
     "metadata": {
      "needs_background": "light"
     },
     "output_type": "display_data"
    }
   ],
   "source": [
    "th = 0.8\n",
    "\n",
    "sns.histplot(\n",
    "    pr_by_user[pr_by_user.merged_oneself_ratio < th].merged_ratio,\n",
    "    bins=35, color=\"dodgerblue\", alpha=0.5\n",
    ")\n",
    "sns.histplot(\n",
    "    pr_by_user[pr_by_user.merged_oneself_ratio >= th].merged_ratio,\n",
    "    bins=15, color=\"r\", alpha=0.8\n",
    ")\n",
    "plt.xlabel(\"Merged Ratio\", fontsize=18)\n",
    "plt.ylabel(\"Count\", fontsize=18)\n",
    "plt.show()"
   ]
  },
  {
   "cell_type": "markdown",
   "metadata": {},
   "source": [
    "赤色のグラフが自分でマージしているPRの割合が80%以上のユーザーのマージ率。水色が自分でマージしているPRの割合が50%未満のユーザーのマージ率。50%未満のヒストグラムでもマージ率が１のユーザー数が多いのは変わらないが、80%以上のユーザーのほうがマージ率１のユーザーの多さは顕著"
   ]
  },
  {
   "cell_type": "markdown",
   "metadata": {},
   "source": [
    "マージ率0, 0.5, 1が多いのはPR回数が少ないユーザーが多いからである気がしてきた"
   ]
  },
  {
   "cell_type": "code",
   "execution_count": 126,
   "metadata": {},
   "outputs": [
    {
     "data": {
      "image/png": "[encoded data removed]",
      "text/plain": [
       "<Figure size 432x288 with 1 Axes>"
      ]
     },
     "metadata": {
      "needs_background": "light"
     },
     "output_type": "display_data"
    }
   ],
   "source": [
    "th = 0.8\n",
    "\n",
    "\n",
    "sns.histplot(\n",
    "    pr_by_user[(pr_by_user.merged_oneself_ratio < th) & (pr_by_user.total_pr_num > 8)].merged_ratio,\n",
    "    bins=35, color=\"dodgerblue\", alpha=0.5\n",
    ")\n",
    "sns.histplot(\n",
    "    pr_by_user[(pr_by_user.merged_oneself_ratio >= th) & (pr_by_user.total_pr_num > 8)].merged_ratio,\n",
    "    bins=15, color=\"r\", alpha=0.8\n",
    ")\n",
    "\n",
    "plt.xlabel(\"Merged Ratio\", fontsize=18)\n",
    "plt.ylabel(\"Count\", fontsize=18)\n",
    "plt.show()"
   ]
  },
  {
   "cell_type": "markdown",
   "metadata": {},
   "source": [
    "うまく分離できた\n",
    "\n",
    "- 自己完結率（PRからマージまで自分で行う割合）が高いユーザーと低いユーザーではマージ率の分布が異なる\n",
    "- 自己完結率に閾値を設けてスコアの計算式のパラメータを変える"
   ]
  },
  {
   "cell_type": "code",
   "execution_count": 127,
   "metadata": {},
   "outputs": [],
   "source": [
    "th = 0.8\n",
    "\n",
    "high_selfcontain_users = pr_by_user[(pr_by_user.merged_oneself_ratio >= th) & (pr_by_user.total_pr_num > 8)]\n",
    "low_selfcontain_users = pr_by_user[(pr_by_user.merged_oneself_ratio < th) & (pr_by_user.total_pr_num > 8)]"
   ]
  },
  {
   "cell_type": "code",
   "execution_count": 128,
   "metadata": {},
   "outputs": [
    {
     "name": "stdout",
     "output_type": "stream",
     "text": [
      "自己完結力　高：\n",
      "mean: 0.869\n",
      "stdev: 0.104\n",
      "\n",
      "自己完結力　低：\n",
      "mean: 0.719\n",
      "stdev: 0.168\n"
     ]
    }
   ],
   "source": [
    "print(\"自己完結力　高：\")\n",
    "print(f\"mean: {mean(high_selfcontain_users.merged_ratio):.3}\")\n",
    "print(f\"stdev: {stdev(high_selfcontain_users.merged_ratio):.3}\")\n",
    "print(\"\")\n",
    "print(\"自己完結力　低：\")\n",
    "print(f\"mean: {mean(low_selfcontain_users.merged_ratio):.3}\")\n",
    "print(f\"stdev: {stdev(low_selfcontain_users.merged_ratio):.3}\")"
   ]
  },
  {
   "cell_type": "markdown",
   "metadata": {},
   "source": [
    "Pull Request を出している頻度の分布を確認"
   ]
  },
  {
   "cell_type": "code",
   "execution_count": 18,
   "metadata": {},
   "outputs": [
    {
     "data": {
      "image/png": "[encoded data removed]",
      "text/plain": [
       "<Figure size 432x288 with 1 Axes>"
      ]
     },
     "metadata": {
      "needs_background": "light"
     },
     "output_type": "display_data"
    }
   ],
   "source": [
    "sns.histplot(pr_by_user.pr_per_day, bins=500)\n",
    "plt.xlim(0, 0.3)\n",
    "plt.xlabel(\"PR per day\", fontsize=18)\n",
    "plt.ylabel(\"Count\", fontsize=18)\n",
    "plt.show()"
   ]
  },
  {
   "cell_type": "markdown",
   "metadata": {},
   "source": [
    "一日あたりの PR 数の分布はやはり 0 に向けて急激に増加する分布となってしまう"
   ]
  }
 ],
 "metadata": {
  "kernelspec": {
   "display_name": "Python 3",
   "language": "python",
   "name": "python3"
  },
  "language_info": {
   "codemirror_mode": {
    "name": "ipython",
    "version": 3
   },
   "file_extension": ".py",
   "mimetype": "text/x-python",
   "name": "python",
   "nbconvert_exporter": "python",
   "pygments_lexer": "ipython3",
   "version": "3.8.2"
  },
  "toc": {
   "base_numbering": 1,
   "nav_menu": {},
   "number_sections": true,
   "sideBar": true,
   "skip_h1_title": false,
   "title_cell": "Table of Contents",
   "title_sidebar": "Contents",
   "toc_cell": false,
   "toc_position": {},
   "toc_section_display": true,
   "toc_window_display": false
  }
 },
 "nbformat": 4,
 "nbformat_minor": 4
}
