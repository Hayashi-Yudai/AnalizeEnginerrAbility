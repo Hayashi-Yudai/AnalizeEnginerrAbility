{
 "cells": [
  {
   "cell_type": "code",
   "execution_count": 4,
   "metadata": {},
   "outputs": [
    {
     "data": {
      "text/plain": [
       "True"
      ]
     },
     "execution_count": 4,
     "metadata": {},
     "output_type": "execute_result"
    }
   ],
   "source": [
    "import pandas as pd\n",
    "import matplotlib.pyplot as plt\n",
    "import seaborn as sns\n",
    "import numpy as np\n",
    "from datetime import datetime\n",
    "import dotenv\n",
    "import requests\n",
    "from requests.auth import HTTPBasicAuth\n",
    "import os\n",
    "\n",
    "plt.rcParams[\"font.family\"] = \"Arial\"\n",
    "plt.rcParams[\"xtick.labelsize\"] = 18\n",
    "plt.rcParams[\"ytick.labelsize\"] = 18\n",
    "plt.rcParams[\"xtick.direction\"] = \"in\"\n",
    "plt.rcParams[\"ytick.direction\"] = \"in\"\n",
    "plt.rcParams[\"xtick.major.size\"] = 12\n",
    "plt.rcParams[\"ytick.major.size\"] = 12\n",
    "plt.rcParams[\"xtick.major.pad\"] = 18\n",
    "plt.rcParams[\"ytick.major.pad\"] = 18\n",
    "plt.rcParams['axes.linewidth'] = 1.0\n",
    "\n",
    "dotenv.load_dotenv()"
   ]
  },
  {
   "cell_type": "code",
   "execution_count": 2,
   "metadata": {},
   "outputs": [
    {
     "data": {
      "text/html": [
       "<div>\n",
       "<style scoped>\n",
       "    .dataframe tbody tr th:only-of-type {\n",
       "        vertical-align: middle;\n",
       "    }\n",
       "\n",
       "    .dataframe tbody tr th {\n",
       "        vertical-align: top;\n",
       "    }\n",
       "\n",
       "    .dataframe thead th {\n",
       "        text-align: right;\n",
       "    }\n",
       "</style>\n",
       "<table border=\"1\" class=\"dataframe\">\n",
       "  <thead>\n",
       "    <tr style=\"text-align: right;\">\n",
       "      <th></th>\n",
       "      <th>username</th>\n",
       "      <th>star</th>\n",
       "      <th>created_at</th>\n",
       "      <th>updated_at</th>\n",
       "      <th>elapsed_time</th>\n",
       "      <th>star_per_day</th>\n",
       "      <th>star_per_day_biased</th>\n",
       "      <th>issue_count</th>\n",
       "      <th>issue_per_day_biased</th>\n",
       "    </tr>\n",
       "  </thead>\n",
       "  <tbody>\n",
       "    <tr>\n",
       "      <th>0</th>\n",
       "      <td>collymore</td>\n",
       "      <td>8</td>\n",
       "      <td>2009-02-19 16:16:06</td>\n",
       "      <td>2020-09-26 11:37:56</td>\n",
       "      <td>4236</td>\n",
       "      <td>0.001889</td>\n",
       "      <td>0.001889</td>\n",
       "      <td>7</td>\n",
       "      <td>0.001653</td>\n",
       "    </tr>\n",
       "    <tr>\n",
       "      <th>1</th>\n",
       "      <td>sujanucsc</td>\n",
       "      <td>9</td>\n",
       "      <td>2009-03-12 16:20:20</td>\n",
       "      <td>2020-08-16 18:30:00</td>\n",
       "      <td>4175</td>\n",
       "      <td>0.002156</td>\n",
       "      <td>0.002156</td>\n",
       "      <td>0</td>\n",
       "      <td>0.000000</td>\n",
       "    </tr>\n",
       "    <tr>\n",
       "      <th>2</th>\n",
       "      <td>Theorem</td>\n",
       "      <td>0</td>\n",
       "      <td>2018-03-15 21:04:11</td>\n",
       "      <td>2020-07-28 05:07:27</td>\n",
       "      <td>865</td>\n",
       "      <td>0.000000</td>\n",
       "      <td>0.000000</td>\n",
       "      <td>0</td>\n",
       "      <td>0.000000</td>\n",
       "    </tr>\n",
       "    <tr>\n",
       "      <th>3</th>\n",
       "      <td>mussawir20</td>\n",
       "      <td>1</td>\n",
       "      <td>2009-05-03 00:01:17</td>\n",
       "      <td>2020-09-18 14:41:17</td>\n",
       "      <td>4156</td>\n",
       "      <td>0.000241</td>\n",
       "      <td>0.000241</td>\n",
       "      <td>0</td>\n",
       "      <td>0.000000</td>\n",
       "    </tr>\n",
       "    <tr>\n",
       "      <th>4</th>\n",
       "      <td>bytheway</td>\n",
       "      <td>958</td>\n",
       "      <td>2008-04-04 17:43:29</td>\n",
       "      <td>2020-09-24 13:30:55</td>\n",
       "      <td>4555</td>\n",
       "      <td>0.210318</td>\n",
       "      <td>0.210318</td>\n",
       "      <td>11</td>\n",
       "      <td>0.002415</td>\n",
       "    </tr>\n",
       "  </tbody>\n",
       "</table>\n",
       "</div>"
      ],
      "text/plain": [
       "     username  star           created_at           updated_at  elapsed_time  \\\n",
       "0   collymore     8  2009-02-19 16:16:06  2020-09-26 11:37:56          4236   \n",
       "1   sujanucsc     9  2009-03-12 16:20:20  2020-08-16 18:30:00          4175   \n",
       "2     Theorem     0  2018-03-15 21:04:11  2020-07-28 05:07:27           865   \n",
       "3  mussawir20     1  2009-05-03 00:01:17  2020-09-18 14:41:17          4156   \n",
       "4    bytheway   958  2008-04-04 17:43:29  2020-09-24 13:30:55          4555   \n",
       "\n",
       "   star_per_day  star_per_day_biased  issue_count  issue_per_day_biased  \n",
       "0      0.001889             0.001889            7              0.001653  \n",
       "1      0.002156             0.002156            0              0.000000  \n",
       "2      0.000000             0.000000            0              0.000000  \n",
       "3      0.000241             0.000241            0              0.000000  \n",
       "4      0.210318             0.210318           11              0.002415  "
      ]
     },
     "execution_count": 2,
     "metadata": {},
     "output_type": "execute_result"
    }
   ],
   "source": [
    "star = pd.read_csv(\"user_info_1.csv\")\n",
    "star.head()"
   ]
  },
  {
   "cell_type": "code",
   "execution_count": 16,
   "metadata": {},
   "outputs": [],
   "source": [
    "created_at = []\n",
    "updated_at = []\n",
    "\n",
    "for i in range(len(star)):\n",
    "    created_at.append(datetime.strptime(star[\"created_at\"][i], \"%Y-%m-%dT%H:%M:%SZ\"))\n",
    "    updated_at.append(datetime.strptime(star[\"updated_at\"][i], \"%Y-%m-%dT%H:%M:%SZ\"))"
   ]
  },
  {
   "cell_type": "code",
   "execution_count": 18,
   "metadata": {},
   "outputs": [],
   "source": [
    "star[\"created_at\"] = created_at\n",
    "star[\"updated_at\"] = updated_at"
   ]
  },
  {
   "cell_type": "code",
   "execution_count": 32,
   "metadata": {},
   "outputs": [
    {
     "name": "stderr",
     "output_type": "stream",
     "text": [
      "<ipython-input-32-036830168289>:21: SettingWithCopyWarning: \n",
      "A value is trying to be set on a copy of a slice from a DataFrame\n",
      "\n",
      "See the caveats in the documentation: https://pandas.pydata.org/pandas-docs/stable/user_guide/indexing.html#returning-a-view-versus-a-copy\n",
      "  star.star[i] = cnt\n"
     ]
    }
   ],
   "source": [
    "auth = HTTPBasicAuth(\n",
    "    os.environ.get(\"GITHUB_USERNAME\"), os.environ.get(\"GITHUB_TOKEN\")\n",
    ")\n",
    "\n",
    "for i in range(len(star)):\n",
    "    if star.star[i] == 100:\n",
    "        page = 1\n",
    "        cnt = 0\n",
    "        while True:\n",
    "            data = requests.get(\n",
    "                f\"https://api.github.com/users/{star.username[i]}/starred?per_page=100&page={page}\",\n",
    "                auth=auth\n",
    "            ).json()\n",
    "            \n",
    "            if len(data) == 0:\n",
    "                break\n",
    "            \n",
    "            cnt += len(data)\n",
    "            page += 1\n",
    "        \n",
    "        star.star[i] = cnt"
   ]
  },
  {
   "cell_type": "code",
   "execution_count": 34,
   "metadata": {},
   "outputs": [],
   "source": [
    "star.to_csv(\"user_info_1.csv\", index=False)"
   ]
  },
  {
   "cell_type": "code",
   "execution_count": 291,
   "metadata": {},
   "outputs": [
    {
     "data": {
      "text/html": [
       "<div>\n",
       "<style scoped>\n",
       "    .dataframe tbody tr th:only-of-type {\n",
       "        vertical-align: middle;\n",
       "    }\n",
       "\n",
       "    .dataframe tbody tr th {\n",
       "        vertical-align: top;\n",
       "    }\n",
       "\n",
       "    .dataframe thead th {\n",
       "        text-align: right;\n",
       "    }\n",
       "</style>\n",
       "<table border=\"1\" class=\"dataframe\">\n",
       "  <thead>\n",
       "    <tr style=\"text-align: right;\">\n",
       "      <th></th>\n",
       "      <th>username</th>\n",
       "      <th>star</th>\n",
       "      <th>created_at</th>\n",
       "      <th>updated_at</th>\n",
       "      <th>elapsed_time</th>\n",
       "      <th>star_per_day</th>\n",
       "      <th>star_per_day_biased</th>\n",
       "    </tr>\n",
       "  </thead>\n",
       "  <tbody>\n",
       "    <tr>\n",
       "      <th>0</th>\n",
       "      <td>collymore</td>\n",
       "      <td>8</td>\n",
       "      <td>2009-02-19 16:16:06</td>\n",
       "      <td>2020-09-26 11:37:56</td>\n",
       "      <td>4237</td>\n",
       "      <td>0.001888</td>\n",
       "      <td>0.001888</td>\n",
       "    </tr>\n",
       "    <tr>\n",
       "      <th>1</th>\n",
       "      <td>sujanucsc</td>\n",
       "      <td>9</td>\n",
       "      <td>2009-03-12 16:20:20</td>\n",
       "      <td>2020-08-16 18:30:00</td>\n",
       "      <td>4176</td>\n",
       "      <td>0.002155</td>\n",
       "      <td>0.002155</td>\n",
       "    </tr>\n",
       "    <tr>\n",
       "      <th>2</th>\n",
       "      <td>Theorem</td>\n",
       "      <td>0</td>\n",
       "      <td>2018-03-15 21:04:11</td>\n",
       "      <td>2020-07-28 05:07:27</td>\n",
       "      <td>866</td>\n",
       "      <td>0.000000</td>\n",
       "      <td>0.000000</td>\n",
       "    </tr>\n",
       "    <tr>\n",
       "      <th>3</th>\n",
       "      <td>mussawir20</td>\n",
       "      <td>1</td>\n",
       "      <td>2009-05-03 00:01:17</td>\n",
       "      <td>2020-09-18 14:41:17</td>\n",
       "      <td>4157</td>\n",
       "      <td>0.000241</td>\n",
       "      <td>0.000241</td>\n",
       "    </tr>\n",
       "    <tr>\n",
       "      <th>4</th>\n",
       "      <td>bytheway</td>\n",
       "      <td>958</td>\n",
       "      <td>2008-04-04 17:43:29</td>\n",
       "      <td>2020-09-24 13:30:55</td>\n",
       "      <td>4556</td>\n",
       "      <td>0.210272</td>\n",
       "      <td>0.210272</td>\n",
       "    </tr>\n",
       "  </tbody>\n",
       "</table>\n",
       "</div>"
      ],
      "text/plain": [
       "     username  star          created_at          updated_at  elapsed_time  \\\n",
       "0   collymore     8 2009-02-19 16:16:06 2020-09-26 11:37:56          4237   \n",
       "1   sujanucsc     9 2009-03-12 16:20:20 2020-08-16 18:30:00          4176   \n",
       "2     Theorem     0 2018-03-15 21:04:11 2020-07-28 05:07:27           866   \n",
       "3  mussawir20     1 2009-05-03 00:01:17 2020-09-18 14:41:17          4157   \n",
       "4    bytheway   958 2008-04-04 17:43:29 2020-09-24 13:30:55          4556   \n",
       "\n",
       "   star_per_day  star_per_day_biased  \n",
       "0      0.001888             0.001888  \n",
       "1      0.002155             0.002155  \n",
       "2      0.000000             0.000000  \n",
       "3      0.000241             0.000241  \n",
       "4      0.210272             0.210272  "
      ]
     },
     "execution_count": 291,
     "metadata": {},
     "output_type": "execute_result"
    }
   ],
   "source": [
    "star.head()"
   ]
  },
  {
   "cell_type": "code",
   "execution_count": 258,
   "metadata": {},
   "outputs": [],
   "source": [
    "to_day = lambda x: x.days + 1\n",
    "star[\"elapsed_time\"] = (star.updated_at - star.created_at).apply(to_day)"
   ]
  },
  {
   "cell_type": "code",
   "execution_count": 267,
   "metadata": {},
   "outputs": [
    {
     "data": {
      "text/html": [
       "<div>\n",
       "<style scoped>\n",
       "    .dataframe tbody tr th:only-of-type {\n",
       "        vertical-align: middle;\n",
       "    }\n",
       "\n",
       "    .dataframe tbody tr th {\n",
       "        vertical-align: top;\n",
       "    }\n",
       "\n",
       "    .dataframe thead th {\n",
       "        text-align: right;\n",
       "    }\n",
       "</style>\n",
       "<table border=\"1\" class=\"dataframe\">\n",
       "  <thead>\n",
       "    <tr style=\"text-align: right;\">\n",
       "      <th></th>\n",
       "      <th>username</th>\n",
       "      <th>star</th>\n",
       "      <th>created_at</th>\n",
       "      <th>updated_at</th>\n",
       "      <th>elapsed_time</th>\n",
       "      <th>star_per_day</th>\n",
       "      <th>star_per_day_biased</th>\n",
       "    </tr>\n",
       "  </thead>\n",
       "  <tbody>\n",
       "    <tr>\n",
       "      <th>705</th>\n",
       "      <td>verky</td>\n",
       "      <td>1</td>\n",
       "      <td>2009-07-21 12:30:36</td>\n",
       "      <td>2020-08-05 20:56:47</td>\n",
       "      <td>4034</td>\n",
       "      <td>0.000248</td>\n",
       "      <td>0.000248</td>\n",
       "    </tr>\n",
       "    <tr>\n",
       "      <th>706</th>\n",
       "      <td>uncertainprogress</td>\n",
       "      <td>5</td>\n",
       "      <td>2008-08-11 17:33:00</td>\n",
       "      <td>2017-08-15 06:19:45</td>\n",
       "      <td>3291</td>\n",
       "      <td>0.001520</td>\n",
       "      <td>0.001519</td>\n",
       "    </tr>\n",
       "    <tr>\n",
       "      <th>707</th>\n",
       "      <td>Deniz</td>\n",
       "      <td>2</td>\n",
       "      <td>2009-01-14 07:53:04</td>\n",
       "      <td>2020-09-25 15:27:21</td>\n",
       "      <td>4273</td>\n",
       "      <td>0.000468</td>\n",
       "      <td>0.000468</td>\n",
       "    </tr>\n",
       "    <tr>\n",
       "      <th>708</th>\n",
       "      <td>mengxianchao</td>\n",
       "      <td>2</td>\n",
       "      <td>2009-07-30 15:13:43</td>\n",
       "      <td>2019-12-18 12:23:39</td>\n",
       "      <td>3793</td>\n",
       "      <td>0.000527</td>\n",
       "      <td>0.000527</td>\n",
       "    </tr>\n",
       "    <tr>\n",
       "      <th>709</th>\n",
       "      <td>create-dmg</td>\n",
       "      <td>0</td>\n",
       "      <td>2020-05-21 16:35:32</td>\n",
       "      <td>2020-05-21 16:37:02</td>\n",
       "      <td>1</td>\n",
       "      <td>NaN</td>\n",
       "      <td>0.000000</td>\n",
       "    </tr>\n",
       "  </tbody>\n",
       "</table>\n",
       "</div>"
      ],
      "text/plain": [
       "              username  star          created_at          updated_at  \\\n",
       "705              verky     1 2009-07-21 12:30:36 2020-08-05 20:56:47   \n",
       "706  uncertainprogress     5 2008-08-11 17:33:00 2017-08-15 06:19:45   \n",
       "707              Deniz     2 2009-01-14 07:53:04 2020-09-25 15:27:21   \n",
       "708       mengxianchao     2 2009-07-30 15:13:43 2019-12-18 12:23:39   \n",
       "709         create-dmg     0 2020-05-21 16:35:32 2020-05-21 16:37:02   \n",
       "\n",
       "     elapsed_time  star_per_day  star_per_day_biased  \n",
       "705          4034      0.000248             0.000248  \n",
       "706          3291      0.001520             0.001519  \n",
       "707          4273      0.000468             0.000468  \n",
       "708          3793      0.000527             0.000527  \n",
       "709             1           NaN             0.000000  "
      ]
     },
     "execution_count": 267,
     "metadata": {},
     "output_type": "execute_result"
    }
   ],
   "source": [
    "star[705:710]"
   ]
  },
  {
   "cell_type": "code",
   "execution_count": 268,
   "metadata": {},
   "outputs": [],
   "source": [
    "star[\"star_per_day\"] = star[\"star\"] / star[\"elapsed_time\"]"
   ]
  },
  {
   "cell_type": "code",
   "execution_count": 269,
   "metadata": {},
   "outputs": [],
   "source": [
    "def func(x):\n",
    "    bias = 0 if x.elapsed_time > 1000 else 1000\n",
    "    \n",
    "    return x.star / (bias + x.elapsed_time)\n",
    "\n",
    "star[\"star_per_day_biased\"] = star.apply(func, axis=1)"
   ]
  },
  {
   "cell_type": "code",
   "execution_count": 12,
   "metadata": {},
   "outputs": [
    {
     "data": {
      "image/png": "[encoded data removed]",
      "text/plain": [
       "<Figure size 1080x576 with 1 Axes>"
      ]
     },
     "metadata": {
      "needs_background": "light"
     },
     "output_type": "display_data"
    }
   ],
   "source": [
    "plt.figure(figsize=(15,8))\n",
    "sns.histplot(star.star, bins=200)\n",
    "plt.xticks([1000*i for i in range(11)])\n",
    "plt.xlim(0, 10000)\n",
    "plt.ylim(0, 900)\n",
    "plt.xlabel(\"# of Stars\", fontsize=18)\n",
    "plt.ylabel(\"# of Users\", fontsize=18)\n",
    "plt.savefig(\"./star_per_day.svg\", transparent=True)\n",
    "plt.show()"
   ]
  },
  {
   "cell_type": "code",
   "execution_count": 23,
   "metadata": {},
   "outputs": [
    {
     "data": {
      "image/png": "[encoded data removed]",
      "text/plain": [
       "<Figure size 1080x576 with 1 Axes>"
      ]
     },
     "metadata": {
      "needs_background": "light"
     },
     "output_type": "display_data"
    }
   ],
   "source": [
    "plt.figure(figsize=(15,8))\n",
    "sns.histplot(star.star_per_day_biased, bins=300, color=\"tomato\")\n",
    "plt.xlabel(\"# of Stars per day\", fontsize=18)\n",
    "plt.ylabel(\"# of Users\", fontsize=18)\n",
    "plt.xlim(0, 0.2)\n",
    "plt.ylim(0, 700)\n",
    "plt.savefig(\"./star_per_day.svg\", transparent=True)\n",
    "plt.show()"
   ]
  },
  {
   "cell_type": "code",
   "execution_count": 290,
   "metadata": {},
   "outputs": [
    {
     "name": "stdout",
     "output_type": "stream",
     "text": [
      "Stdev biased: 0.1257\n",
      "Mean: 0.02862\n",
      "Median: 0.002706\n"
     ]
    }
   ],
   "source": [
    "print(f\"Stdev biased: {stats.tstd(star.star_per_day_biased):.4}\")\n",
    "print(f\"Mean: {star.star_per_day_biased.mean():.4}\")\n",
    "print(f\"Median: {star.star_per_day_biased.median():.4}\")"
   ]
  },
  {
   "cell_type": "code",
   "execution_count": 282,
   "metadata": {},
   "outputs": [],
   "source": [
    "def hensati(x):\n",
    "    return (x - 0.02862) / 0.1257 * 10 + 50"
   ]
  },
  {
   "cell_type": "code",
   "execution_count": 292,
   "metadata": {},
   "outputs": [
    {
     "data": {
      "text/plain": [
       "64.42959427207637"
      ]
     },
     "execution_count": 292,
     "metadata": {},
     "output_type": "execute_result"
    }
   ],
   "source": [
    "hensati(0.21)"
   ]
  },
  {
   "cell_type": "code",
   "execution_count": null,
   "metadata": {},
   "outputs": [],
   "source": []
  },
  {
   "cell_type": "code",
   "execution_count": null,
   "metadata": {},
   "outputs": [],
   "source": []
  },
  {
   "cell_type": "code",
   "execution_count": 214,
   "metadata": {},
   "outputs": [
    {
     "data": {
      "image/png": "[encoded data removed]",
      "text/plain": [
       "<Figure size 1080x576 with 1 Axes>"
      ]
     },
     "metadata": {
      "needs_background": "light"
     },
     "output_type": "display_data"
    }
   ],
   "source": [
    "from scipy import stats\n",
    "\n",
    "c = 0.1\n",
    "plt.figure(figsize=(15,8))\n",
    "sns.histplot(stats.boxcox(star.star_per_day + c, lmbda=-4), bins=100, color=\"dodgerblue\")\n",
    "sns.histplot(stats.boxcox(star.star_per_day + c + 0.001, lmbda=-4), bins=100, color=\"tomato\")\n",
    "#plt.xlim(-0.02, 4)\n",
    "#plt.ylim(0, 60)\n",
    "plt.show()"
   ]
  },
  {
   "cell_type": "code",
   "execution_count": 233,
   "metadata": {},
   "outputs": [],
   "source": [
    "star.to_csv(\"user_info_1.csv\", index=False)"
   ]
  },
  {
   "cell_type": "markdown",
   "metadata": {},
   "source": [
    "GitHub アカウントを作って時間が経ってない人は少しスターをつける数が増えるだけで１日あたりのスター数が急激に増えて`log10(10*x + 1)` が一気に増えてしまう。"
   ]
  },
  {
   "cell_type": "code",
   "execution_count": 167,
   "metadata": {},
   "outputs": [
    {
     "data": {
      "image/png": "[encoded data removed]",
      "text/plain": [
       "<Figure size 1080x576 with 1 Axes>"
      ]
     },
     "metadata": {
      "needs_background": "light"
     },
     "output_type": "display_data"
    }
   ],
   "source": [
    "plt.figure(figsize=(15,8))\n",
    "sns.histplot(star.elapsed_time, bins=100)\n",
    "plt.show()"
   ]
  },
  {
   "cell_type": "code",
   "execution_count": null,
   "metadata": {},
   "outputs": [],
   "source": []
  }
 ],
 "metadata": {
  "kernelspec": {
   "display_name": "Python 3",
   "language": "python",
   "name": "python3"
  },
  "language_info": {
   "codemirror_mode": {
    "name": "ipython",
    "version": 3
   },
   "file_extension": ".py",
   "mimetype": "text/x-python",
   "name": "python",
   "nbconvert_exporter": "python",
   "pygments_lexer": "ipython3",
   "version": "3.7.3"
  },
  "toc": {
   "base_numbering": 1,
   "nav_menu": {},
   "number_sections": true,
   "sideBar": true,
   "skip_h1_title": false,
   "title_cell": "Table of Contents",
   "title_sidebar": "Contents",
   "toc_cell": false,
   "toc_position": {},
   "toc_section_display": true,
   "toc_window_display": false
  }
 },
 "nbformat": 4,
 "nbformat_minor": 4
}
