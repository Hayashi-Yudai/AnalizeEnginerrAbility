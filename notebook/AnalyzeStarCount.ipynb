{
 "cells": [
  {
   "cell_type": "code",
   "execution_count": 60,
   "metadata": {},
   "outputs": [
    {
     "data": {
      "text/plain": [
       "True"
      ]
     },
     "execution_count": 60,
     "metadata": {},
     "output_type": "execute_result"
    }
   ],
   "source": [
    "import pandas as pd\n",
    "import matplotlib.pyplot as plt\n",
    "import seaborn as sns\n",
    "import numpy as np\n",
    "from datetime import datetime\n",
    "import dotenv\n",
    "import requests\n",
    "from requests.auth import HTTPBasicAuth\n",
    "import os\n",
    "from scipy import stats\n",
    "\n",
    "plt.rcParams[\"font.family\"] = \"Arial\"\n",
    "plt.rcParams[\"xtick.labelsize\"] = 18\n",
    "plt.rcParams[\"ytick.labelsize\"] = 18\n",
    "plt.rcParams[\"xtick.direction\"] = \"in\"\n",
    "plt.rcParams[\"ytick.direction\"] = \"in\"\n",
    "plt.rcParams[\"xtick.major.size\"] = 12\n",
    "plt.rcParams[\"ytick.major.size\"] = 12\n",
    "plt.rcParams[\"xtick.major.pad\"] = 18\n",
    "plt.rcParams[\"ytick.major.pad\"] = 18\n",
    "plt.rcParams['axes.linewidth'] = 1.0\n",
    "\n",
    "dotenv.load_dotenv()"
   ]
  },
  {
   "cell_type": "code",
   "execution_count": 2,
   "metadata": {},
   "outputs": [
    {
     "data": {
      "text/html": [
       "<div>\n",
       "<style scoped>\n",
       "    .dataframe tbody tr th:only-of-type {\n",
       "        vertical-align: middle;\n",
       "    }\n",
       "\n",
       "    .dataframe tbody tr th {\n",
       "        vertical-align: top;\n",
       "    }\n",
       "\n",
       "    .dataframe thead th {\n",
       "        text-align: right;\n",
       "    }\n",
       "</style>\n",
       "<table border=\"1\" class=\"dataframe\">\n",
       "  <thead>\n",
       "    <tr style=\"text-align: right;\">\n",
       "      <th></th>\n",
       "      <th>username</th>\n",
       "      <th>star</th>\n",
       "      <th>created_at</th>\n",
       "      <th>updated_at</th>\n",
       "      <th>elapsed_time</th>\n",
       "      <th>star_per_day</th>\n",
       "      <th>star_per_day_biased</th>\n",
       "      <th>issue_count</th>\n",
       "      <th>issue_per_day_biased</th>\n",
       "    </tr>\n",
       "  </thead>\n",
       "  <tbody>\n",
       "    <tr>\n",
       "      <th>0</th>\n",
       "      <td>collymore</td>\n",
       "      <td>8</td>\n",
       "      <td>2009-02-19 16:16:06</td>\n",
       "      <td>2020-09-26 11:37:56</td>\n",
       "      <td>4236</td>\n",
       "      <td>0.001889</td>\n",
       "      <td>0.001889</td>\n",
       "      <td>7</td>\n",
       "      <td>0.001653</td>\n",
       "    </tr>\n",
       "    <tr>\n",
       "      <th>1</th>\n",
       "      <td>sujanucsc</td>\n",
       "      <td>9</td>\n",
       "      <td>2009-03-12 16:20:20</td>\n",
       "      <td>2020-08-16 18:30:00</td>\n",
       "      <td>4175</td>\n",
       "      <td>0.002156</td>\n",
       "      <td>0.002156</td>\n",
       "      <td>0</td>\n",
       "      <td>0.000000</td>\n",
       "    </tr>\n",
       "    <tr>\n",
       "      <th>2</th>\n",
       "      <td>Theorem</td>\n",
       "      <td>0</td>\n",
       "      <td>2018-03-15 21:04:11</td>\n",
       "      <td>2020-07-28 05:07:27</td>\n",
       "      <td>865</td>\n",
       "      <td>0.000000</td>\n",
       "      <td>0.000000</td>\n",
       "      <td>0</td>\n",
       "      <td>0.000000</td>\n",
       "    </tr>\n",
       "    <tr>\n",
       "      <th>3</th>\n",
       "      <td>mussawir20</td>\n",
       "      <td>1</td>\n",
       "      <td>2009-05-03 00:01:17</td>\n",
       "      <td>2020-09-18 14:41:17</td>\n",
       "      <td>4156</td>\n",
       "      <td>0.000241</td>\n",
       "      <td>0.000241</td>\n",
       "      <td>0</td>\n",
       "      <td>0.000000</td>\n",
       "    </tr>\n",
       "    <tr>\n",
       "      <th>4</th>\n",
       "      <td>bytheway</td>\n",
       "      <td>958</td>\n",
       "      <td>2008-04-04 17:43:29</td>\n",
       "      <td>2020-09-24 13:30:55</td>\n",
       "      <td>4555</td>\n",
       "      <td>0.210318</td>\n",
       "      <td>0.210318</td>\n",
       "      <td>11</td>\n",
       "      <td>0.002415</td>\n",
       "    </tr>\n",
       "  </tbody>\n",
       "</table>\n",
       "</div>"
      ],
      "text/plain": [
       "     username  star           created_at           updated_at  elapsed_time  \\\n",
       "0   collymore     8  2009-02-19 16:16:06  2020-09-26 11:37:56          4236   \n",
       "1   sujanucsc     9  2009-03-12 16:20:20  2020-08-16 18:30:00          4175   \n",
       "2     Theorem     0  2018-03-15 21:04:11  2020-07-28 05:07:27           865   \n",
       "3  mussawir20     1  2009-05-03 00:01:17  2020-09-18 14:41:17          4156   \n",
       "4    bytheway   958  2008-04-04 17:43:29  2020-09-24 13:30:55          4555   \n",
       "\n",
       "   star_per_day  star_per_day_biased  issue_count  issue_per_day_biased  \n",
       "0      0.001889             0.001889            7              0.001653  \n",
       "1      0.002156             0.002156            0              0.000000  \n",
       "2      0.000000             0.000000            0              0.000000  \n",
       "3      0.000241             0.000241            0              0.000000  \n",
       "4      0.210318             0.210318           11              0.002415  "
      ]
     },
     "execution_count": 2,
     "metadata": {},
     "output_type": "execute_result"
    }
   ],
   "source": [
    "star = pd.read_csv(\"./data/user_info_1.csv\")\n",
    "star.head()"
   ]
  },
  {
   "cell_type": "markdown",
   "metadata": {},
   "source": [
    "## 追加の処理\n",
    "\n",
    "最初の１回のみ実行する"
   ]
  },
  {
   "cell_type": "code",
   "execution_count": null,
   "metadata": {},
   "outputs": [],
   "source": [
    "created_at = []\n",
    "updated_at = []\n",
    "\n",
    "for i in range(len(star)):\n",
    "    created_at.append(datetime.strptime(star[\"created_at\"][i], \"%Y-%m-%dT%H:%M:%SZ\"))\n",
    "    updated_at.append(datetime.strptime(star[\"updated_at\"][i], \"%Y-%m-%dT%H:%M:%SZ\"))"
   ]
  },
  {
   "cell_type": "code",
   "execution_count": 18,
   "metadata": {},
   "outputs": [],
   "source": [
    "star[\"created_at\"] = created_at\n",
    "star[\"updated_at\"] = updated_at"
   ]
  },
  {
   "cell_type": "code",
   "execution_count": 32,
   "metadata": {},
   "outputs": [
    {
     "name": "stderr",
     "output_type": "stream",
     "text": [
      "<ipython-input-32-036830168289>:21: SettingWithCopyWarning: \n",
      "A value is trying to be set on a copy of a slice from a DataFrame\n",
      "\n",
      "See the caveats in the documentation: https://pandas.pydata.org/pandas-docs/stable/user_guide/indexing.html#returning-a-view-versus-a-copy\n",
      "  star.star[i] = cnt\n"
     ]
    }
   ],
   "source": [
    "auth = HTTPBasicAuth(\n",
    "    os.environ.get(\"GITHUB_USERNAME\"), os.environ.get(\"GITHUB_TOKEN\")\n",
    ")\n",
    "\n",
    "for i in range(len(star)):\n",
    "    if star.star[i] == 100:\n",
    "        page = 1\n",
    "        cnt = 0\n",
    "        while True:\n",
    "            data = requests.get(\n",
    "                f\"https://api.github.com/users/{star.username[i]}/starred?per_page=100&page={page}\",\n",
    "                auth=auth\n",
    "            ).json()\n",
    "            \n",
    "            if len(data) == 0:\n",
    "                break\n",
    "            \n",
    "            cnt += len(data)\n",
    "            page += 1\n",
    "        \n",
    "        star.star[i] = cnt"
   ]
  },
  {
   "cell_type": "code",
   "execution_count": 34,
   "metadata": {},
   "outputs": [],
   "source": [
    "star.to_csv(\"./data/user_info_1.csv\", index=False)"
   ]
  },
  {
   "cell_type": "markdown",
   "metadata": {},
   "source": [
    "## データの解析"
   ]
  },
  {
   "cell_type": "code",
   "execution_count": 4,
   "metadata": {},
   "outputs": [
    {
     "data": {
      "text/html": [
       "<div>\n",
       "<style scoped>\n",
       "    .dataframe tbody tr th:only-of-type {\n",
       "        vertical-align: middle;\n",
       "    }\n",
       "\n",
       "    .dataframe tbody tr th {\n",
       "        vertical-align: top;\n",
       "    }\n",
       "\n",
       "    .dataframe thead th {\n",
       "        text-align: right;\n",
       "    }\n",
       "</style>\n",
       "<table border=\"1\" class=\"dataframe\">\n",
       "  <thead>\n",
       "    <tr style=\"text-align: right;\">\n",
       "      <th></th>\n",
       "      <th>username</th>\n",
       "      <th>star</th>\n",
       "      <th>created_at</th>\n",
       "      <th>updated_at</th>\n",
       "      <th>elapsed_time</th>\n",
       "      <th>star_per_day</th>\n",
       "      <th>star_per_day_biased</th>\n",
       "      <th>issue_count</th>\n",
       "      <th>issue_per_day_biased</th>\n",
       "    </tr>\n",
       "  </thead>\n",
       "  <tbody>\n",
       "    <tr>\n",
       "      <th>0</th>\n",
       "      <td>collymore</td>\n",
       "      <td>8</td>\n",
       "      <td>2009-02-19 16:16:06</td>\n",
       "      <td>2020-09-26 11:37:56</td>\n",
       "      <td>4236</td>\n",
       "      <td>0.001889</td>\n",
       "      <td>0.001889</td>\n",
       "      <td>7</td>\n",
       "      <td>0.001653</td>\n",
       "    </tr>\n",
       "    <tr>\n",
       "      <th>1</th>\n",
       "      <td>sujanucsc</td>\n",
       "      <td>9</td>\n",
       "      <td>2009-03-12 16:20:20</td>\n",
       "      <td>2020-08-16 18:30:00</td>\n",
       "      <td>4175</td>\n",
       "      <td>0.002156</td>\n",
       "      <td>0.002156</td>\n",
       "      <td>0</td>\n",
       "      <td>0.000000</td>\n",
       "    </tr>\n",
       "    <tr>\n",
       "      <th>2</th>\n",
       "      <td>Theorem</td>\n",
       "      <td>0</td>\n",
       "      <td>2018-03-15 21:04:11</td>\n",
       "      <td>2020-07-28 05:07:27</td>\n",
       "      <td>865</td>\n",
       "      <td>0.000000</td>\n",
       "      <td>0.000000</td>\n",
       "      <td>0</td>\n",
       "      <td>0.000000</td>\n",
       "    </tr>\n",
       "    <tr>\n",
       "      <th>3</th>\n",
       "      <td>mussawir20</td>\n",
       "      <td>1</td>\n",
       "      <td>2009-05-03 00:01:17</td>\n",
       "      <td>2020-09-18 14:41:17</td>\n",
       "      <td>4156</td>\n",
       "      <td>0.000241</td>\n",
       "      <td>0.000241</td>\n",
       "      <td>0</td>\n",
       "      <td>0.000000</td>\n",
       "    </tr>\n",
       "    <tr>\n",
       "      <th>4</th>\n",
       "      <td>bytheway</td>\n",
       "      <td>958</td>\n",
       "      <td>2008-04-04 17:43:29</td>\n",
       "      <td>2020-09-24 13:30:55</td>\n",
       "      <td>4555</td>\n",
       "      <td>0.210318</td>\n",
       "      <td>0.210318</td>\n",
       "      <td>11</td>\n",
       "      <td>0.002415</td>\n",
       "    </tr>\n",
       "  </tbody>\n",
       "</table>\n",
       "</div>"
      ],
      "text/plain": [
       "     username  star           created_at           updated_at  elapsed_time  \\\n",
       "0   collymore     8  2009-02-19 16:16:06  2020-09-26 11:37:56          4236   \n",
       "1   sujanucsc     9  2009-03-12 16:20:20  2020-08-16 18:30:00          4175   \n",
       "2     Theorem     0  2018-03-15 21:04:11  2020-07-28 05:07:27           865   \n",
       "3  mussawir20     1  2009-05-03 00:01:17  2020-09-18 14:41:17          4156   \n",
       "4    bytheway   958  2008-04-04 17:43:29  2020-09-24 13:30:55          4555   \n",
       "\n",
       "   star_per_day  star_per_day_biased  issue_count  issue_per_day_biased  \n",
       "0      0.001889             0.001889            7              0.001653  \n",
       "1      0.002156             0.002156            0              0.000000  \n",
       "2      0.000000             0.000000            0              0.000000  \n",
       "3      0.000241             0.000241            0              0.000000  \n",
       "4      0.210318             0.210318           11              0.002415  "
      ]
     },
     "execution_count": 4,
     "metadata": {},
     "output_type": "execute_result"
    }
   ],
   "source": [
    "star.head()"
   ]
  },
  {
   "cell_type": "code",
   "execution_count": null,
   "metadata": {},
   "outputs": [],
   "source": [
    "to_day = lambda x: x.days + 1\n",
    "# star[\"elapsed_time\"] = (star.updated_at - star.created_at).apply(to_day)"
   ]
  },
  {
   "cell_type": "code",
   "execution_count": 268,
   "metadata": {},
   "outputs": [],
   "source": [
    "star[\"star_per_day\"] = star[\"star\"] / star[\"elapsed_time\"]"
   ]
  },
  {
   "cell_type": "code",
   "execution_count": 42,
   "metadata": {},
   "outputs": [],
   "source": [
    "def func(x):\n",
    "    bias = 0 if x.elapsed_time > 1000 else 1000 - x.elapsed_time\n",
    "    \n",
    "    return x.star / (bias + x.elapsed_time)\n",
    "\n",
    "star[\"star_per_day_biased\"] = star.apply(func, axis=1)"
   ]
  },
  {
   "cell_type": "code",
   "execution_count": 43,
   "metadata": {},
   "outputs": [
    {
     "data": {
      "image/png": "[encoded data removed]",
      "text/plain": [
       "<Figure size 1080x576 with 1 Axes>"
      ]
     },
     "metadata": {
      "needs_background": "light"
     },
     "output_type": "display_data"
    }
   ],
   "source": [
    "plt.figure(figsize=(15,8))\n",
    "sns.histplot(star.star, bins=200)\n",
    "plt.xticks([1000*i for i in range(11)])\n",
    "plt.xlim(0, 10000)\n",
    "plt.ylim(0, 900)\n",
    "plt.xlabel(\"# of Stars\", fontsize=18)\n",
    "plt.ylabel(\"# of Users\", fontsize=18)\n",
    "plt.savefig(\"./star_per_day.svg\", transparent=True)\n",
    "plt.show()"
   ]
  },
  {
   "cell_type": "code",
   "execution_count": 44,
   "metadata": {},
   "outputs": [
    {
     "data": {
      "image/png": "[encoded data removed]",
      "text/plain": [
       "<Figure size 1080x576 with 1 Axes>"
      ]
     },
     "metadata": {
      "needs_background": "light"
     },
     "output_type": "display_data"
    }
   ],
   "source": [
    "plt.figure(figsize=(15,8))\n",
    "sns.histplot(star.star_per_day_biased, bins=300)\n",
    "plt.xlabel(\"# of Stars per day\", fontsize=18)\n",
    "plt.ylabel(\"# of Users\", fontsize=18)\n",
    "plt.xlim(0, 0.2)\n",
    "plt.ylim(0, 700)\n",
    "plt.savefig(\"./star_per_day.svg\", transparent=True)\n",
    "plt.show()"
   ]
  },
  {
   "cell_type": "code",
   "execution_count": 45,
   "metadata": {},
   "outputs": [
    {
     "data": {
      "text/plain": [
       "2.927438731379145"
      ]
     },
     "execution_count": 45,
     "metadata": {},
     "output_type": "execute_result"
    }
   ],
   "source": [
    "max(star.star_per_day_biased)"
   ]
  },
  {
   "cell_type": "markdown",
   "metadata": {},
   "source": [
    "ロジット変換"
   ]
  },
  {
   "cell_type": "code",
   "execution_count": 46,
   "metadata": {},
   "outputs": [
    {
     "data": {
      "image/png": "[encoded data removed]",
      "text/plain": [
       "<Figure size 1080x576 with 1 Axes>"
      ]
     },
     "metadata": {
      "needs_background": "light"
     },
     "output_type": "display_data"
    }
   ],
   "source": [
    "# s = star[(star.star_per_day_biased > 0) & (star.star_per_day_biased < 1)].star_per_day_biased\n",
    "s = star.star_per_day_biased / 3 + 1e-5\n",
    "\n",
    "plt.figure(figsize=(15,8))\n",
    "sns.histplot(np.log10(s/(1-s)), bins=150)\n",
    "plt.xlabel(\"# of Stars per day\", fontsize=18)\n",
    "plt.ylabel(\"# of Users\", fontsize=18)\n",
    "#plt.xlim(0, 0.2)\n",
    "plt.ylim(0, 80)\n",
    "#plt.savefig(\"./star_per_day.svg\", transparent=True)\n",
    "plt.show()"
   ]
  },
  {
   "cell_type": "markdown",
   "metadata": {},
   "source": [
    "-5 にあるバーはスター数が０のユーザー。それを除いてもピークが２つある気がする。それぞれの山に特徴はある？スター数が０のユーザーは除いて `elapsed_time` によって分布を分割してみる"
   ]
  },
  {
   "cell_type": "code",
   "execution_count": 75,
   "metadata": {},
   "outputs": [
    {
     "data": {
      "image/png": "[encoded data removed]",
      "text/plain": [
       "<Figure size 864x864 with 2 Axes>"
      ]
     },
     "metadata": {
      "needs_background": "light"
     },
     "output_type": "display_data"
    }
   ],
   "source": [
    "# s = star[(star.star_per_day_biased > 0) & (star.star_per_day_biased < 1)].star_per_day_biased\n",
    "th = 4100\n",
    "s_new = star[(star.elapsed_time < th) & (star.star_per_day_biased > 0)].star_per_day_biased / 3\n",
    "s_old = star[(star.elapsed_time >= th) & (star.star_per_day_biased > 0)].star_per_day_biased / 3\n",
    "\n",
    "fig = plt.figure(figsize=(12, 12))\n",
    "ax1 = fig.add_subplot(211)\n",
    "ax2 = fig.add_subplot(212, sharex=ax1)\n",
    "sns.histplot(np.log10(s_new/(1-s_new)), bins=150, color=\"tomato\", alpha=0.5, ax=ax1)\n",
    "sns.histplot(np.log10(s_old/(1-s_old)), bins=150, color=\"dodgerblue\", alpha=0.7, ax=ax2)\n",
    "ax2.set_xlabel(\"# of Stars per day\", fontsize=18)\n",
    "ax2.set_ylabel(\"# of Users\", fontsize=18)\n",
    "ax1.set_xlabel(\"\")\n",
    "ax1.set_ylabel(\"# of Users\", fontsize=18)\n",
    "#plt.xlim(0, 0.2)\n",
    "plt.ylim(0, 40)\n",
    "#plt.savefig(\"./star_per_day.svg\", transparent=True)\n",
    "plt.show()"
   ]
  },
  {
   "cell_type": "code",
   "execution_count": 63,
   "metadata": {},
   "outputs": [
    {
     "name": "stdout",
     "output_type": "stream",
     "text": [
      "Long users:\n",
      "Stdev biased: 0.8237\n",
      "Mean: -2.447\n",
      "Median: -2.385\n",
      "New users:\n",
      "Stdev biased: 0.6361\n",
      "Mean: -3.405\n",
      "Median: -3.641\n"
     ]
    }
   ],
   "source": [
    "print(\"Long users:\")\n",
    "print(f\"Stdev biased: {stats.tstd(np.log10(s_old/(1-s_old))):.4}\")\n",
    "print(f\"Mean: {np.log10(s_old/(1-s_old)).mean():.4}\")\n",
    "print(f\"Median: {np.log10(s_old/(1-s_old)).median():.4}\")\n",
    "print(\"New users:\")\n",
    "print(f\"Stdev biased: {stats.tstd(np.log10(s_new/(1-s_new))):.4}\")\n",
    "print(f\"Mean: {np.log10(s_new/(1-s_new)).mean():.4}\")\n",
    "print(f\"Median: {np.log10(s_new/(1-s_new)).median():.4}\")"
   ]
  },
  {
   "cell_type": "code",
   "execution_count": 66,
   "metadata": {},
   "outputs": [],
   "source": [
    "def hensati(x):\n",
    "    return (x + 2.447) / 2.385 * 10 + 50"
   ]
  },
  {
   "cell_type": "code",
   "execution_count": 71,
   "metadata": {},
   "outputs": [
    {
     "data": {
      "text/plain": [
       "43.68093198960508"
      ]
     },
     "execution_count": 71,
     "metadata": {},
     "output_type": "execute_result"
    }
   ],
   "source": [
    "hensati(np.log10(1/9000/(1-1/3000)))"
   ]
  },
  {
   "cell_type": "code",
   "execution_count": 233,
   "metadata": {},
   "outputs": [],
   "source": [
    "star.to_csv(\"./data/user_info_1.csv\", index=False)"
   ]
  },
  {
   "cell_type": "markdown",
   "metadata": {},
   "source": [
    "GitHub アカウントを作って時間が経ってない人は少しスターをつける数が増えるだけで１日あたりのスター数が急激に増えて`log10(10*x + 1)` が一気に増えてしまう。"
   ]
  },
  {
   "cell_type": "code",
   "execution_count": 167,
   "metadata": {},
   "outputs": [
    {
     "data": {
      "image/png": "[encoded data removed]",
      "text/plain": [
       "<Figure size 1080x576 with 1 Axes>"
      ]
     },
     "metadata": {
      "needs_background": "light"
     },
     "output_type": "display_data"
    }
   ],
   "source": [
    "plt.figure(figsize=(15,8))\n",
    "sns.histplot(star.elapsed_time, bins=100)\n",
    "plt.show()"
   ]
  },
  {
   "cell_type": "code",
   "execution_count": null,
   "metadata": {},
   "outputs": [],
   "source": []
  }
 ],
 "metadata": {
  "kernelspec": {
   "display_name": "Python 3",
   "language": "python",
   "name": "python3"
  },
  "language_info": {
   "codemirror_mode": {
    "name": "ipython",
    "version": 3
   },
   "file_extension": ".py",
   "mimetype": "text/x-python",
   "name": "python",
   "nbconvert_exporter": "python",
   "pygments_lexer": "ipython3",
   "version": "3.8.2"
  },
  "toc": {
   "base_numbering": 1,
   "nav_menu": {},
   "number_sections": true,
   "sideBar": true,
   "skip_h1_title": false,
   "title_cell": "Table of Contents",
   "title_sidebar": "Contents",
   "toc_cell": false,
   "toc_position": {},
   "toc_section_display": true,
   "toc_window_display": false
  }
 },
 "nbformat": 4,
 "nbformat_minor": 4
}
